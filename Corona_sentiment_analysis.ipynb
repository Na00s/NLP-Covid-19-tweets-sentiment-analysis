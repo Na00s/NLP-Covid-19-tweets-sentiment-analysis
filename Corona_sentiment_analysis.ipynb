{
 "cells": [
  {
   "attachments": {},
   "cell_type": "markdown",
   "metadata": {},
   "source": [
    "# Load Libraries"
   ]
  },
  {
   "cell_type": "code",
   "execution_count": 1,
   "metadata": {},
   "outputs": [],
   "source": [
    "import nltk\n",
    "import re\n",
    "import pandas as pd\n",
    "from nltk.corpus import stopwords\n",
    "import string\n",
    "from nltk.tokenize import TweetTokenizer\n",
    "from nltk.stem import PorterStemmer\n",
    "import numpy as np\n",
    "import plotly.express as px\n",
    "import plotly.graph_objects as go\n",
    "import sklearn "
   ]
  },
  {
   "cell_type": "code",
   "execution_count": 2,
   "metadata": {},
   "outputs": [
    {
     "name": "stderr",
     "output_type": "stream",
     "text": [
      "[nltk_data] Error loading stopwords: <urlopen error [SSL:\n",
      "[nltk_data]     CERTIFICATE_VERIFY_FAILED] certificate verify failed:\n",
      "[nltk_data]     unable to get local issuer certificate (_ssl.c:1108)>\n"
     ]
    }
   ],
   "source": [
    "# download the stopwords\n",
    "nltk.download('stopwords')\n",
    "stopwords = stopwords_english = stopwords.words('english')"
   ]
  },
  {
   "attachments": {},
   "cell_type": "markdown",
   "metadata": {},
   "source": [
    "#  Load Data"
   ]
  },
  {
   "cell_type": "code",
   "execution_count": 3,
   "metadata": {},
   "outputs": [],
   "source": [
    "train_df = pd.read_csv('/Users/alijanatiidr/Desktop/Prog/Projects/Corona_tweets_sentiment_analysis/Corona_NLP_train.csv', encoding='latin-1')\n",
    "test_df = pd.read_csv('/Users/alijanatiidr/Desktop/Prog/Projects/Corona_tweets_sentiment_analysis/Corona_NLP_test.csv', encoding='latin-1')"
   ]
  },
  {
   "cell_type": "code",
   "execution_count": 4,
   "metadata": {},
   "outputs": [
    {
     "data": {
      "text/html": [
       "<div>\n",
       "<style scoped>\n",
       "    .dataframe tbody tr th:only-of-type {\n",
       "        vertical-align: middle;\n",
       "    }\n",
       "\n",
       "    .dataframe tbody tr th {\n",
       "        vertical-align: top;\n",
       "    }\n",
       "\n",
       "    .dataframe thead th {\n",
       "        text-align: right;\n",
       "    }\n",
       "</style>\n",
       "<table border=\"1\" class=\"dataframe\">\n",
       "  <thead>\n",
       "    <tr style=\"text-align: right;\">\n",
       "      <th></th>\n",
       "      <th>UserName</th>\n",
       "      <th>ScreenName</th>\n",
       "      <th>Location</th>\n",
       "      <th>TweetAt</th>\n",
       "      <th>OriginalTweet</th>\n",
       "      <th>Sentiment</th>\n",
       "    </tr>\n",
       "  </thead>\n",
       "  <tbody>\n",
       "    <tr>\n",
       "      <th>0</th>\n",
       "      <td>3799</td>\n",
       "      <td>48751</td>\n",
       "      <td>London</td>\n",
       "      <td>16-03-2020</td>\n",
       "      <td>@MeNyrbie @Phil_Gahan @Chrisitv https://t.co/i...</td>\n",
       "      <td>Neutral</td>\n",
       "    </tr>\n",
       "    <tr>\n",
       "      <th>1</th>\n",
       "      <td>3800</td>\n",
       "      <td>48752</td>\n",
       "      <td>UK</td>\n",
       "      <td>16-03-2020</td>\n",
       "      <td>advice Talk to your neighbours family to excha...</td>\n",
       "      <td>Positive</td>\n",
       "    </tr>\n",
       "    <tr>\n",
       "      <th>2</th>\n",
       "      <td>3801</td>\n",
       "      <td>48753</td>\n",
       "      <td>Vagabonds</td>\n",
       "      <td>16-03-2020</td>\n",
       "      <td>Coronavirus Australia: Woolworths to give elde...</td>\n",
       "      <td>Positive</td>\n",
       "    </tr>\n",
       "    <tr>\n",
       "      <th>3</th>\n",
       "      <td>3802</td>\n",
       "      <td>48754</td>\n",
       "      <td>NaN</td>\n",
       "      <td>16-03-2020</td>\n",
       "      <td>My food stock is not the only one which is emp...</td>\n",
       "      <td>Positive</td>\n",
       "    </tr>\n",
       "    <tr>\n",
       "      <th>4</th>\n",
       "      <td>3803</td>\n",
       "      <td>48755</td>\n",
       "      <td>NaN</td>\n",
       "      <td>16-03-2020</td>\n",
       "      <td>Me, ready to go at supermarket during the #COV...</td>\n",
       "      <td>Extremely Negative</td>\n",
       "    </tr>\n",
       "  </tbody>\n",
       "</table>\n",
       "</div>"
      ],
      "text/plain": [
       "   UserName  ScreenName   Location     TweetAt  \\\n",
       "0      3799       48751     London  16-03-2020   \n",
       "1      3800       48752         UK  16-03-2020   \n",
       "2      3801       48753  Vagabonds  16-03-2020   \n",
       "3      3802       48754        NaN  16-03-2020   \n",
       "4      3803       48755        NaN  16-03-2020   \n",
       "\n",
       "                                       OriginalTweet           Sentiment  \n",
       "0  @MeNyrbie @Phil_Gahan @Chrisitv https://t.co/i...             Neutral  \n",
       "1  advice Talk to your neighbours family to excha...            Positive  \n",
       "2  Coronavirus Australia: Woolworths to give elde...            Positive  \n",
       "3  My food stock is not the only one which is emp...            Positive  \n",
       "4  Me, ready to go at supermarket during the #COV...  Extremely Negative  "
      ]
     },
     "execution_count": 4,
     "metadata": {},
     "output_type": "execute_result"
    }
   ],
   "source": [
    "train_df.head()"
   ]
  },
  {
   "cell_type": "code",
   "execution_count": 5,
   "metadata": {},
   "outputs": [
    {
     "data": {
      "text/html": [
       "<div>\n",
       "<style scoped>\n",
       "    .dataframe tbody tr th:only-of-type {\n",
       "        vertical-align: middle;\n",
       "    }\n",
       "\n",
       "    .dataframe tbody tr th {\n",
       "        vertical-align: top;\n",
       "    }\n",
       "\n",
       "    .dataframe thead th {\n",
       "        text-align: right;\n",
       "    }\n",
       "</style>\n",
       "<table border=\"1\" class=\"dataframe\">\n",
       "  <thead>\n",
       "    <tr style=\"text-align: right;\">\n",
       "      <th></th>\n",
       "      <th>UserName</th>\n",
       "      <th>ScreenName</th>\n",
       "      <th>Location</th>\n",
       "      <th>TweetAt</th>\n",
       "      <th>OriginalTweet</th>\n",
       "      <th>Sentiment</th>\n",
       "    </tr>\n",
       "  </thead>\n",
       "  <tbody>\n",
       "    <tr>\n",
       "      <th>0</th>\n",
       "      <td>1</td>\n",
       "      <td>44953</td>\n",
       "      <td>NYC</td>\n",
       "      <td>02-03-2020</td>\n",
       "      <td>TRENDING: New Yorkers encounter empty supermar...</td>\n",
       "      <td>Extremely Negative</td>\n",
       "    </tr>\n",
       "    <tr>\n",
       "      <th>1</th>\n",
       "      <td>2</td>\n",
       "      <td>44954</td>\n",
       "      <td>Seattle, WA</td>\n",
       "      <td>02-03-2020</td>\n",
       "      <td>When I couldn't find hand sanitizer at Fred Me...</td>\n",
       "      <td>Positive</td>\n",
       "    </tr>\n",
       "    <tr>\n",
       "      <th>2</th>\n",
       "      <td>3</td>\n",
       "      <td>44955</td>\n",
       "      <td>NaN</td>\n",
       "      <td>02-03-2020</td>\n",
       "      <td>Find out how you can protect yourself and love...</td>\n",
       "      <td>Extremely Positive</td>\n",
       "    </tr>\n",
       "    <tr>\n",
       "      <th>3</th>\n",
       "      <td>4</td>\n",
       "      <td>44956</td>\n",
       "      <td>Chicagoland</td>\n",
       "      <td>02-03-2020</td>\n",
       "      <td>#Panic buying hits #NewYork City as anxious sh...</td>\n",
       "      <td>Negative</td>\n",
       "    </tr>\n",
       "    <tr>\n",
       "      <th>4</th>\n",
       "      <td>5</td>\n",
       "      <td>44957</td>\n",
       "      <td>Melbourne, Victoria</td>\n",
       "      <td>03-03-2020</td>\n",
       "      <td>#toiletpaper #dunnypaper #coronavirus #coronav...</td>\n",
       "      <td>Neutral</td>\n",
       "    </tr>\n",
       "  </tbody>\n",
       "</table>\n",
       "</div>"
      ],
      "text/plain": [
       "   UserName  ScreenName             Location     TweetAt  \\\n",
       "0         1       44953                  NYC  02-03-2020   \n",
       "1         2       44954          Seattle, WA  02-03-2020   \n",
       "2         3       44955                  NaN  02-03-2020   \n",
       "3         4       44956          Chicagoland  02-03-2020   \n",
       "4         5       44957  Melbourne, Victoria  03-03-2020   \n",
       "\n",
       "                                       OriginalTweet           Sentiment  \n",
       "0  TRENDING: New Yorkers encounter empty supermar...  Extremely Negative  \n",
       "1  When I couldn't find hand sanitizer at Fred Me...            Positive  \n",
       "2  Find out how you can protect yourself and love...  Extremely Positive  \n",
       "3  #Panic buying hits #NewYork City as anxious sh...            Negative  \n",
       "4  #toiletpaper #dunnypaper #coronavirus #coronav...             Neutral  "
      ]
     },
     "execution_count": 5,
     "metadata": {},
     "output_type": "execute_result"
    }
   ],
   "source": [
    "test_df.head()"
   ]
  },
  {
   "attachments": {},
   "cell_type": "markdown",
   "metadata": {},
   "source": [
    "# Implement helpers functions"
   ]
  },
  {
   "cell_type": "code",
   "execution_count": 6,
   "metadata": {},
   "outputs": [],
   "source": [
    "# Define process_tweet function that takes a tweet, tokenizes it, removes stopwords, stems words and lowercases it\n",
    "def process_tweet(tweet):\n",
    "    stemmer = PorterStemmer()\n",
    "    tweet = re.sub(r'^RT[\\s]+', '', tweet)\n",
    "    tweet = re.sub(r'https?:\\/\\/.*[\\r]*', '', tweet)\n",
    "    tweet = re.sub(r'#', '', tweet)\n",
    "    tokenizer = TweetTokenizer(preserve_case=False, strip_handles=True, reduce_len=True)\n",
    "    tweet_tokens = tokenizer.tokenize(tweet)\n",
    "    tweets_clean = []\n",
    "    for word in tweet_tokens:\n",
    "        if (word not in stopwords_english and word not in string.punctuation):\n",
    "            stem_word = stemmer.stem(word)\n",
    "            tweets_clean.append(stem_word)\n",
    "    return tweets_clean\n"
   ]
  },
  {
   "cell_type": "code",
   "execution_count": 7,
   "metadata": {},
   "outputs": [
    {
     "name": "stdout",
     "output_type": "stream",
     "text": [
      "['advic', 'talk', 'neighbour', 'famili', 'exchang', 'phone', 'number', 'creat', 'contact', 'list', 'phone', 'number', 'neighbour', 'school', 'employ', 'chemist', 'gp', 'set', 'onlin', 'shop', 'account', 'poss', 'adequ', 'suppli', 'regular', 'med', 'order']\n"
     ]
    }
   ],
   "source": [
    "tweet = train_df['OriginalTweet'][1]\n",
    "print(process_tweet(tweet))"
   ]
  },
  {
   "cell_type": "code",
   "execution_count": 8,
   "metadata": {},
   "outputs": [],
   "source": [
    "# Define build_freqs function that takes a list of tweets and labels and returns a dictionary with the frequency of each word\n",
    "def build_freqs(tweets, ys):\n",
    "    yslist = np.squeeze(ys).tolist()\n",
    "    freqs = {}\n",
    "    for y, tweet in zip(yslist, tweets):\n",
    "        for word in process_tweet(tweet):\n",
    "            pair = (word, y)\n",
    "            if pair in freqs:\n",
    "                freqs[pair] += 1\n",
    "            else:\n",
    "                freqs[pair] = 1\n",
    "    return freqs"
   ]
  },
  {
   "cell_type": "code",
   "execution_count": 9,
   "metadata": {},
   "outputs": [
    {
     "name": "stdout",
     "output_type": "stream",
     "text": [
      "freqs =  {('happi', 2): 1, ('sad', -2): 1, ('happi', 1): 1, ('sad', -1): 1, ('go', 0): 1, ('school', 0): 1, ('eat', 0): 1, ('pasta', 0): 1}\n"
     ]
    }
   ],
   "source": [
    "tweets = ['i am very happy', 'i am very sad', 'i am happy', 'i am sad', 'i am going to school', 'i am eating pasta']\n",
    "ys = np.array([[2], [-2], [1], [-1], [0], [0]])\n",
    "freqs = build_freqs(tweets, ys)\n",
    "print('freqs = ', freqs)"
   ]
  },
  {
   "attachments": {},
   "cell_type": "markdown",
   "metadata": {},
   "source": [
    "# Explore Data"
   ]
  },
  {
   "cell_type": "code",
   "execution_count": 10,
   "metadata": {},
   "outputs": [
    {
     "data": {
      "text/plain": [
       "(['UserName',\n",
       "  'ScreenName',\n",
       "  'Location',\n",
       "  'TweetAt',\n",
       "  'OriginalTweet',\n",
       "  'Sentiment'],\n",
       " ['UserName',\n",
       "  'ScreenName',\n",
       "  'Location',\n",
       "  'TweetAt',\n",
       "  'OriginalTweet',\n",
       "  'Sentiment'])"
      ]
     },
     "execution_count": 10,
     "metadata": {},
     "output_type": "execute_result"
    }
   ],
   "source": [
    "train_df.columns.tolist(), test_df.columns.tolist()"
   ]
  },
  {
   "cell_type": "code",
   "execution_count": 11,
   "metadata": {},
   "outputs": [],
   "source": [
    "# Dropping username, screenname, location, tweetAt columns because they are not useful for our analysis\n",
    "train_df = train_df.drop(['UserName', 'ScreenName', 'Location', 'TweetAt'], axis=1)\n",
    "test_df = test_df.drop(['UserName', 'ScreenName', 'Location', 'TweetAt'], axis=1)"
   ]
  },
  {
   "cell_type": "code",
   "execution_count": 12,
   "metadata": {},
   "outputs": [
    {
     "data": {
      "text/plain": [
       "(OriginalTweet    0\n",
       " Sentiment        0\n",
       " dtype: int64,\n",
       " OriginalTweet    0\n",
       " Sentiment        0\n",
       " dtype: int64)"
      ]
     },
     "execution_count": 12,
     "metadata": {},
     "output_type": "execute_result"
    }
   ],
   "source": [
    "# Looking at NaN Values\n",
    "train_df.isnull().sum(), test_df.isnull().sum()"
   ]
  },
  {
   "cell_type": "code",
   "execution_count": 13,
   "metadata": {},
   "outputs": [],
   "source": [
    "# Computing training labels proportion\n",
    "train_labels_proportion = pd.DataFrame(train_df['Sentiment'].value_counts())\n",
    "train_labels_proportion['labels'] = train_labels_proportion.index\n",
    "train_labels_proportion.columns = ['count', 'labels'] \n",
    "train_labels_proportion.reset_index(drop=True, inplace=True)\n",
    "train_labels_proportion = train_labels_proportion[['labels', 'count']]"
   ]
  },
  {
   "cell_type": "code",
   "execution_count": 14,
   "metadata": {},
   "outputs": [
    {
     "data": {
      "application/vnd.plotly.v1+json": {
       "config": {
        "plotlyServerURL": "https://plot.ly"
       },
       "data": [
        {
         "domain": {
          "x": [
           0,
           1
          ],
          "y": [
           0,
           1
          ]
         },
         "hovertemplate": "labels=%{label}<br>count=%{value}<extra></extra>",
         "labels": [
          "Positive",
          "Negative",
          "Neutral",
          "Extremely Positive",
          "Extremely Negative"
         ],
         "legendgroup": "",
         "name": "",
         "showlegend": true,
         "type": "pie",
         "values": [
          11422,
          9917,
          7713,
          6624,
          5481
         ]
        }
       ],
       "layout": {
        "legend": {
         "tracegroupgap": 0
        },
        "template": {
         "data": {
          "bar": [
           {
            "error_x": {
             "color": "#2a3f5f"
            },
            "error_y": {
             "color": "#2a3f5f"
            },
            "marker": {
             "line": {
              "color": "#E5ECF6",
              "width": 0.5
             },
             "pattern": {
              "fillmode": "overlay",
              "size": 10,
              "solidity": 0.2
             }
            },
            "type": "bar"
           }
          ],
          "barpolar": [
           {
            "marker": {
             "line": {
              "color": "#E5ECF6",
              "width": 0.5
             },
             "pattern": {
              "fillmode": "overlay",
              "size": 10,
              "solidity": 0.2
             }
            },
            "type": "barpolar"
           }
          ],
          "carpet": [
           {
            "aaxis": {
             "endlinecolor": "#2a3f5f",
             "gridcolor": "white",
             "linecolor": "white",
             "minorgridcolor": "white",
             "startlinecolor": "#2a3f5f"
            },
            "baxis": {
             "endlinecolor": "#2a3f5f",
             "gridcolor": "white",
             "linecolor": "white",
             "minorgridcolor": "white",
             "startlinecolor": "#2a3f5f"
            },
            "type": "carpet"
           }
          ],
          "choropleth": [
           {
            "colorbar": {
             "outlinewidth": 0,
             "ticks": ""
            },
            "type": "choropleth"
           }
          ],
          "contour": [
           {
            "colorbar": {
             "outlinewidth": 0,
             "ticks": ""
            },
            "colorscale": [
             [
              0,
              "#0d0887"
             ],
             [
              0.1111111111111111,
              "#46039f"
             ],
             [
              0.2222222222222222,
              "#7201a8"
             ],
             [
              0.3333333333333333,
              "#9c179e"
             ],
             [
              0.4444444444444444,
              "#bd3786"
             ],
             [
              0.5555555555555556,
              "#d8576b"
             ],
             [
              0.6666666666666666,
              "#ed7953"
             ],
             [
              0.7777777777777778,
              "#fb9f3a"
             ],
             [
              0.8888888888888888,
              "#fdca26"
             ],
             [
              1,
              "#f0f921"
             ]
            ],
            "type": "contour"
           }
          ],
          "contourcarpet": [
           {
            "colorbar": {
             "outlinewidth": 0,
             "ticks": ""
            },
            "type": "contourcarpet"
           }
          ],
          "heatmap": [
           {
            "colorbar": {
             "outlinewidth": 0,
             "ticks": ""
            },
            "colorscale": [
             [
              0,
              "#0d0887"
             ],
             [
              0.1111111111111111,
              "#46039f"
             ],
             [
              0.2222222222222222,
              "#7201a8"
             ],
             [
              0.3333333333333333,
              "#9c179e"
             ],
             [
              0.4444444444444444,
              "#bd3786"
             ],
             [
              0.5555555555555556,
              "#d8576b"
             ],
             [
              0.6666666666666666,
              "#ed7953"
             ],
             [
              0.7777777777777778,
              "#fb9f3a"
             ],
             [
              0.8888888888888888,
              "#fdca26"
             ],
             [
              1,
              "#f0f921"
             ]
            ],
            "type": "heatmap"
           }
          ],
          "heatmapgl": [
           {
            "colorbar": {
             "outlinewidth": 0,
             "ticks": ""
            },
            "colorscale": [
             [
              0,
              "#0d0887"
             ],
             [
              0.1111111111111111,
              "#46039f"
             ],
             [
              0.2222222222222222,
              "#7201a8"
             ],
             [
              0.3333333333333333,
              "#9c179e"
             ],
             [
              0.4444444444444444,
              "#bd3786"
             ],
             [
              0.5555555555555556,
              "#d8576b"
             ],
             [
              0.6666666666666666,
              "#ed7953"
             ],
             [
              0.7777777777777778,
              "#fb9f3a"
             ],
             [
              0.8888888888888888,
              "#fdca26"
             ],
             [
              1,
              "#f0f921"
             ]
            ],
            "type": "heatmapgl"
           }
          ],
          "histogram": [
           {
            "marker": {
             "pattern": {
              "fillmode": "overlay",
              "size": 10,
              "solidity": 0.2
             }
            },
            "type": "histogram"
           }
          ],
          "histogram2d": [
           {
            "colorbar": {
             "outlinewidth": 0,
             "ticks": ""
            },
            "colorscale": [
             [
              0,
              "#0d0887"
             ],
             [
              0.1111111111111111,
              "#46039f"
             ],
             [
              0.2222222222222222,
              "#7201a8"
             ],
             [
              0.3333333333333333,
              "#9c179e"
             ],
             [
              0.4444444444444444,
              "#bd3786"
             ],
             [
              0.5555555555555556,
              "#d8576b"
             ],
             [
              0.6666666666666666,
              "#ed7953"
             ],
             [
              0.7777777777777778,
              "#fb9f3a"
             ],
             [
              0.8888888888888888,
              "#fdca26"
             ],
             [
              1,
              "#f0f921"
             ]
            ],
            "type": "histogram2d"
           }
          ],
          "histogram2dcontour": [
           {
            "colorbar": {
             "outlinewidth": 0,
             "ticks": ""
            },
            "colorscale": [
             [
              0,
              "#0d0887"
             ],
             [
              0.1111111111111111,
              "#46039f"
             ],
             [
              0.2222222222222222,
              "#7201a8"
             ],
             [
              0.3333333333333333,
              "#9c179e"
             ],
             [
              0.4444444444444444,
              "#bd3786"
             ],
             [
              0.5555555555555556,
              "#d8576b"
             ],
             [
              0.6666666666666666,
              "#ed7953"
             ],
             [
              0.7777777777777778,
              "#fb9f3a"
             ],
             [
              0.8888888888888888,
              "#fdca26"
             ],
             [
              1,
              "#f0f921"
             ]
            ],
            "type": "histogram2dcontour"
           }
          ],
          "mesh3d": [
           {
            "colorbar": {
             "outlinewidth": 0,
             "ticks": ""
            },
            "type": "mesh3d"
           }
          ],
          "parcoords": [
           {
            "line": {
             "colorbar": {
              "outlinewidth": 0,
              "ticks": ""
             }
            },
            "type": "parcoords"
           }
          ],
          "pie": [
           {
            "automargin": true,
            "type": "pie"
           }
          ],
          "scatter": [
           {
            "fillpattern": {
             "fillmode": "overlay",
             "size": 10,
             "solidity": 0.2
            },
            "type": "scatter"
           }
          ],
          "scatter3d": [
           {
            "line": {
             "colorbar": {
              "outlinewidth": 0,
              "ticks": ""
             }
            },
            "marker": {
             "colorbar": {
              "outlinewidth": 0,
              "ticks": ""
             }
            },
            "type": "scatter3d"
           }
          ],
          "scattercarpet": [
           {
            "marker": {
             "colorbar": {
              "outlinewidth": 0,
              "ticks": ""
             }
            },
            "type": "scattercarpet"
           }
          ],
          "scattergeo": [
           {
            "marker": {
             "colorbar": {
              "outlinewidth": 0,
              "ticks": ""
             }
            },
            "type": "scattergeo"
           }
          ],
          "scattergl": [
           {
            "marker": {
             "colorbar": {
              "outlinewidth": 0,
              "ticks": ""
             }
            },
            "type": "scattergl"
           }
          ],
          "scattermapbox": [
           {
            "marker": {
             "colorbar": {
              "outlinewidth": 0,
              "ticks": ""
             }
            },
            "type": "scattermapbox"
           }
          ],
          "scatterpolar": [
           {
            "marker": {
             "colorbar": {
              "outlinewidth": 0,
              "ticks": ""
             }
            },
            "type": "scatterpolar"
           }
          ],
          "scatterpolargl": [
           {
            "marker": {
             "colorbar": {
              "outlinewidth": 0,
              "ticks": ""
             }
            },
            "type": "scatterpolargl"
           }
          ],
          "scatterternary": [
           {
            "marker": {
             "colorbar": {
              "outlinewidth": 0,
              "ticks": ""
             }
            },
            "type": "scatterternary"
           }
          ],
          "surface": [
           {
            "colorbar": {
             "outlinewidth": 0,
             "ticks": ""
            },
            "colorscale": [
             [
              0,
              "#0d0887"
             ],
             [
              0.1111111111111111,
              "#46039f"
             ],
             [
              0.2222222222222222,
              "#7201a8"
             ],
             [
              0.3333333333333333,
              "#9c179e"
             ],
             [
              0.4444444444444444,
              "#bd3786"
             ],
             [
              0.5555555555555556,
              "#d8576b"
             ],
             [
              0.6666666666666666,
              "#ed7953"
             ],
             [
              0.7777777777777778,
              "#fb9f3a"
             ],
             [
              0.8888888888888888,
              "#fdca26"
             ],
             [
              1,
              "#f0f921"
             ]
            ],
            "type": "surface"
           }
          ],
          "table": [
           {
            "cells": {
             "fill": {
              "color": "#EBF0F8"
             },
             "line": {
              "color": "white"
             }
            },
            "header": {
             "fill": {
              "color": "#C8D4E3"
             },
             "line": {
              "color": "white"
             }
            },
            "type": "table"
           }
          ]
         },
         "layout": {
          "annotationdefaults": {
           "arrowcolor": "#2a3f5f",
           "arrowhead": 0,
           "arrowwidth": 1
          },
          "autotypenumbers": "strict",
          "coloraxis": {
           "colorbar": {
            "outlinewidth": 0,
            "ticks": ""
           }
          },
          "colorscale": {
           "diverging": [
            [
             0,
             "#8e0152"
            ],
            [
             0.1,
             "#c51b7d"
            ],
            [
             0.2,
             "#de77ae"
            ],
            [
             0.3,
             "#f1b6da"
            ],
            [
             0.4,
             "#fde0ef"
            ],
            [
             0.5,
             "#f7f7f7"
            ],
            [
             0.6,
             "#e6f5d0"
            ],
            [
             0.7,
             "#b8e186"
            ],
            [
             0.8,
             "#7fbc41"
            ],
            [
             0.9,
             "#4d9221"
            ],
            [
             1,
             "#276419"
            ]
           ],
           "sequential": [
            [
             0,
             "#0d0887"
            ],
            [
             0.1111111111111111,
             "#46039f"
            ],
            [
             0.2222222222222222,
             "#7201a8"
            ],
            [
             0.3333333333333333,
             "#9c179e"
            ],
            [
             0.4444444444444444,
             "#bd3786"
            ],
            [
             0.5555555555555556,
             "#d8576b"
            ],
            [
             0.6666666666666666,
             "#ed7953"
            ],
            [
             0.7777777777777778,
             "#fb9f3a"
            ],
            [
             0.8888888888888888,
             "#fdca26"
            ],
            [
             1,
             "#f0f921"
            ]
           ],
           "sequentialminus": [
            [
             0,
             "#0d0887"
            ],
            [
             0.1111111111111111,
             "#46039f"
            ],
            [
             0.2222222222222222,
             "#7201a8"
            ],
            [
             0.3333333333333333,
             "#9c179e"
            ],
            [
             0.4444444444444444,
             "#bd3786"
            ],
            [
             0.5555555555555556,
             "#d8576b"
            ],
            [
             0.6666666666666666,
             "#ed7953"
            ],
            [
             0.7777777777777778,
             "#fb9f3a"
            ],
            [
             0.8888888888888888,
             "#fdca26"
            ],
            [
             1,
             "#f0f921"
            ]
           ]
          },
          "colorway": [
           "#636efa",
           "#EF553B",
           "#00cc96",
           "#ab63fa",
           "#FFA15A",
           "#19d3f3",
           "#FF6692",
           "#B6E880",
           "#FF97FF",
           "#FECB52"
          ],
          "font": {
           "color": "#2a3f5f"
          },
          "geo": {
           "bgcolor": "white",
           "lakecolor": "white",
           "landcolor": "#E5ECF6",
           "showlakes": true,
           "showland": true,
           "subunitcolor": "white"
          },
          "hoverlabel": {
           "align": "left"
          },
          "hovermode": "closest",
          "mapbox": {
           "style": "light"
          },
          "paper_bgcolor": "white",
          "plot_bgcolor": "#E5ECF6",
          "polar": {
           "angularaxis": {
            "gridcolor": "white",
            "linecolor": "white",
            "ticks": ""
           },
           "bgcolor": "#E5ECF6",
           "radialaxis": {
            "gridcolor": "white",
            "linecolor": "white",
            "ticks": ""
           }
          },
          "scene": {
           "xaxis": {
            "backgroundcolor": "#E5ECF6",
            "gridcolor": "white",
            "gridwidth": 2,
            "linecolor": "white",
            "showbackground": true,
            "ticks": "",
            "zerolinecolor": "white"
           },
           "yaxis": {
            "backgroundcolor": "#E5ECF6",
            "gridcolor": "white",
            "gridwidth": 2,
            "linecolor": "white",
            "showbackground": true,
            "ticks": "",
            "zerolinecolor": "white"
           },
           "zaxis": {
            "backgroundcolor": "#E5ECF6",
            "gridcolor": "white",
            "gridwidth": 2,
            "linecolor": "white",
            "showbackground": true,
            "ticks": "",
            "zerolinecolor": "white"
           }
          },
          "shapedefaults": {
           "line": {
            "color": "#2a3f5f"
           }
          },
          "ternary": {
           "aaxis": {
            "gridcolor": "white",
            "linecolor": "white",
            "ticks": ""
           },
           "baxis": {
            "gridcolor": "white",
            "linecolor": "white",
            "ticks": ""
           },
           "bgcolor": "#E5ECF6",
           "caxis": {
            "gridcolor": "white",
            "linecolor": "white",
            "ticks": ""
           }
          },
          "title": {
           "x": 0.05
          },
          "xaxis": {
           "automargin": true,
           "gridcolor": "white",
           "linecolor": "white",
           "ticks": "",
           "title": {
            "standoff": 15
           },
           "zerolinecolor": "white",
           "zerolinewidth": 2
          },
          "yaxis": {
           "automargin": true,
           "gridcolor": "white",
           "linecolor": "white",
           "ticks": "",
           "title": {
            "standoff": 15
           },
           "zerolinecolor": "white",
           "zerolinewidth": 2
          }
         }
        },
        "title": {
         "text": "Proportion of labels in the training set"
        }
       }
      }
     },
     "metadata": {},
     "output_type": "display_data"
    }
   ],
   "source": [
    "# Plotting the proportion of labels in the training set\n",
    "fig = px.pie(train_labels_proportion, values='count', names='labels', title='Proportion of labels in the training set')\n",
    "fig.show()\n"
   ]
  },
  {
   "cell_type": "code",
   "execution_count": 15,
   "metadata": {},
   "outputs": [
    {
     "data": {
      "text/html": [
       "<div>\n",
       "<style scoped>\n",
       "    .dataframe tbody tr th:only-of-type {\n",
       "        vertical-align: middle;\n",
       "    }\n",
       "\n",
       "    .dataframe tbody tr th {\n",
       "        vertical-align: top;\n",
       "    }\n",
       "\n",
       "    .dataframe thead th {\n",
       "        text-align: right;\n",
       "    }\n",
       "</style>\n",
       "<table border=\"1\" class=\"dataframe\">\n",
       "  <thead>\n",
       "    <tr style=\"text-align: right;\">\n",
       "      <th></th>\n",
       "      <th>labels</th>\n",
       "      <th>count</th>\n",
       "    </tr>\n",
       "  </thead>\n",
       "  <tbody>\n",
       "    <tr>\n",
       "      <th>0</th>\n",
       "      <td>Negative</td>\n",
       "      <td>1041</td>\n",
       "    </tr>\n",
       "    <tr>\n",
       "      <th>1</th>\n",
       "      <td>Positive</td>\n",
       "      <td>947</td>\n",
       "    </tr>\n",
       "    <tr>\n",
       "      <th>2</th>\n",
       "      <td>Neutral</td>\n",
       "      <td>619</td>\n",
       "    </tr>\n",
       "    <tr>\n",
       "      <th>3</th>\n",
       "      <td>Extremely Positive</td>\n",
       "      <td>599</td>\n",
       "    </tr>\n",
       "    <tr>\n",
       "      <th>4</th>\n",
       "      <td>Extremely Negative</td>\n",
       "      <td>592</td>\n",
       "    </tr>\n",
       "  </tbody>\n",
       "</table>\n",
       "</div>"
      ],
      "text/plain": [
       "               labels  count\n",
       "0            Negative   1041\n",
       "1            Positive    947\n",
       "2             Neutral    619\n",
       "3  Extremely Positive    599\n",
       "4  Extremely Negative    592"
      ]
     },
     "execution_count": 15,
     "metadata": {},
     "output_type": "execute_result"
    }
   ],
   "source": [
    "# Computing test labels proportion\n",
    "test_labels_proportion = pd.DataFrame(test_df['Sentiment'].value_counts())\n",
    "test_labels_proportion['labels'] = test_labels_proportion.index\n",
    "test_labels_proportion.columns = ['count', 'labels']\n",
    "test_labels_proportion.reset_index(drop=True, inplace=True)\n",
    "test_labels_proportion = test_labels_proportion[['labels', 'count']]\n",
    "test_labels_proportion"
   ]
  },
  {
   "cell_type": "code",
   "execution_count": 16,
   "metadata": {},
   "outputs": [
    {
     "data": {
      "application/vnd.plotly.v1+json": {
       "config": {
        "plotlyServerURL": "https://plot.ly"
       },
       "data": [
        {
         "domain": {
          "x": [
           0,
           1
          ],
          "y": [
           0,
           1
          ]
         },
         "hovertemplate": "labels=%{label}<br>count=%{value}<extra></extra>",
         "labels": [
          "Negative",
          "Positive",
          "Neutral",
          "Extremely Positive",
          "Extremely Negative"
         ],
         "legendgroup": "",
         "name": "",
         "showlegend": true,
         "type": "pie",
         "values": [
          1041,
          947,
          619,
          599,
          592
         ]
        }
       ],
       "layout": {
        "legend": {
         "tracegroupgap": 0
        },
        "template": {
         "data": {
          "bar": [
           {
            "error_x": {
             "color": "#2a3f5f"
            },
            "error_y": {
             "color": "#2a3f5f"
            },
            "marker": {
             "line": {
              "color": "#E5ECF6",
              "width": 0.5
             },
             "pattern": {
              "fillmode": "overlay",
              "size": 10,
              "solidity": 0.2
             }
            },
            "type": "bar"
           }
          ],
          "barpolar": [
           {
            "marker": {
             "line": {
              "color": "#E5ECF6",
              "width": 0.5
             },
             "pattern": {
              "fillmode": "overlay",
              "size": 10,
              "solidity": 0.2
             }
            },
            "type": "barpolar"
           }
          ],
          "carpet": [
           {
            "aaxis": {
             "endlinecolor": "#2a3f5f",
             "gridcolor": "white",
             "linecolor": "white",
             "minorgridcolor": "white",
             "startlinecolor": "#2a3f5f"
            },
            "baxis": {
             "endlinecolor": "#2a3f5f",
             "gridcolor": "white",
             "linecolor": "white",
             "minorgridcolor": "white",
             "startlinecolor": "#2a3f5f"
            },
            "type": "carpet"
           }
          ],
          "choropleth": [
           {
            "colorbar": {
             "outlinewidth": 0,
             "ticks": ""
            },
            "type": "choropleth"
           }
          ],
          "contour": [
           {
            "colorbar": {
             "outlinewidth": 0,
             "ticks": ""
            },
            "colorscale": [
             [
              0,
              "#0d0887"
             ],
             [
              0.1111111111111111,
              "#46039f"
             ],
             [
              0.2222222222222222,
              "#7201a8"
             ],
             [
              0.3333333333333333,
              "#9c179e"
             ],
             [
              0.4444444444444444,
              "#bd3786"
             ],
             [
              0.5555555555555556,
              "#d8576b"
             ],
             [
              0.6666666666666666,
              "#ed7953"
             ],
             [
              0.7777777777777778,
              "#fb9f3a"
             ],
             [
              0.8888888888888888,
              "#fdca26"
             ],
             [
              1,
              "#f0f921"
             ]
            ],
            "type": "contour"
           }
          ],
          "contourcarpet": [
           {
            "colorbar": {
             "outlinewidth": 0,
             "ticks": ""
            },
            "type": "contourcarpet"
           }
          ],
          "heatmap": [
           {
            "colorbar": {
             "outlinewidth": 0,
             "ticks": ""
            },
            "colorscale": [
             [
              0,
              "#0d0887"
             ],
             [
              0.1111111111111111,
              "#46039f"
             ],
             [
              0.2222222222222222,
              "#7201a8"
             ],
             [
              0.3333333333333333,
              "#9c179e"
             ],
             [
              0.4444444444444444,
              "#bd3786"
             ],
             [
              0.5555555555555556,
              "#d8576b"
             ],
             [
              0.6666666666666666,
              "#ed7953"
             ],
             [
              0.7777777777777778,
              "#fb9f3a"
             ],
             [
              0.8888888888888888,
              "#fdca26"
             ],
             [
              1,
              "#f0f921"
             ]
            ],
            "type": "heatmap"
           }
          ],
          "heatmapgl": [
           {
            "colorbar": {
             "outlinewidth": 0,
             "ticks": ""
            },
            "colorscale": [
             [
              0,
              "#0d0887"
             ],
             [
              0.1111111111111111,
              "#46039f"
             ],
             [
              0.2222222222222222,
              "#7201a8"
             ],
             [
              0.3333333333333333,
              "#9c179e"
             ],
             [
              0.4444444444444444,
              "#bd3786"
             ],
             [
              0.5555555555555556,
              "#d8576b"
             ],
             [
              0.6666666666666666,
              "#ed7953"
             ],
             [
              0.7777777777777778,
              "#fb9f3a"
             ],
             [
              0.8888888888888888,
              "#fdca26"
             ],
             [
              1,
              "#f0f921"
             ]
            ],
            "type": "heatmapgl"
           }
          ],
          "histogram": [
           {
            "marker": {
             "pattern": {
              "fillmode": "overlay",
              "size": 10,
              "solidity": 0.2
             }
            },
            "type": "histogram"
           }
          ],
          "histogram2d": [
           {
            "colorbar": {
             "outlinewidth": 0,
             "ticks": ""
            },
            "colorscale": [
             [
              0,
              "#0d0887"
             ],
             [
              0.1111111111111111,
              "#46039f"
             ],
             [
              0.2222222222222222,
              "#7201a8"
             ],
             [
              0.3333333333333333,
              "#9c179e"
             ],
             [
              0.4444444444444444,
              "#bd3786"
             ],
             [
              0.5555555555555556,
              "#d8576b"
             ],
             [
              0.6666666666666666,
              "#ed7953"
             ],
             [
              0.7777777777777778,
              "#fb9f3a"
             ],
             [
              0.8888888888888888,
              "#fdca26"
             ],
             [
              1,
              "#f0f921"
             ]
            ],
            "type": "histogram2d"
           }
          ],
          "histogram2dcontour": [
           {
            "colorbar": {
             "outlinewidth": 0,
             "ticks": ""
            },
            "colorscale": [
             [
              0,
              "#0d0887"
             ],
             [
              0.1111111111111111,
              "#46039f"
             ],
             [
              0.2222222222222222,
              "#7201a8"
             ],
             [
              0.3333333333333333,
              "#9c179e"
             ],
             [
              0.4444444444444444,
              "#bd3786"
             ],
             [
              0.5555555555555556,
              "#d8576b"
             ],
             [
              0.6666666666666666,
              "#ed7953"
             ],
             [
              0.7777777777777778,
              "#fb9f3a"
             ],
             [
              0.8888888888888888,
              "#fdca26"
             ],
             [
              1,
              "#f0f921"
             ]
            ],
            "type": "histogram2dcontour"
           }
          ],
          "mesh3d": [
           {
            "colorbar": {
             "outlinewidth": 0,
             "ticks": ""
            },
            "type": "mesh3d"
           }
          ],
          "parcoords": [
           {
            "line": {
             "colorbar": {
              "outlinewidth": 0,
              "ticks": ""
             }
            },
            "type": "parcoords"
           }
          ],
          "pie": [
           {
            "automargin": true,
            "type": "pie"
           }
          ],
          "scatter": [
           {
            "fillpattern": {
             "fillmode": "overlay",
             "size": 10,
             "solidity": 0.2
            },
            "type": "scatter"
           }
          ],
          "scatter3d": [
           {
            "line": {
             "colorbar": {
              "outlinewidth": 0,
              "ticks": ""
             }
            },
            "marker": {
             "colorbar": {
              "outlinewidth": 0,
              "ticks": ""
             }
            },
            "type": "scatter3d"
           }
          ],
          "scattercarpet": [
           {
            "marker": {
             "colorbar": {
              "outlinewidth": 0,
              "ticks": ""
             }
            },
            "type": "scattercarpet"
           }
          ],
          "scattergeo": [
           {
            "marker": {
             "colorbar": {
              "outlinewidth": 0,
              "ticks": ""
             }
            },
            "type": "scattergeo"
           }
          ],
          "scattergl": [
           {
            "marker": {
             "colorbar": {
              "outlinewidth": 0,
              "ticks": ""
             }
            },
            "type": "scattergl"
           }
          ],
          "scattermapbox": [
           {
            "marker": {
             "colorbar": {
              "outlinewidth": 0,
              "ticks": ""
             }
            },
            "type": "scattermapbox"
           }
          ],
          "scatterpolar": [
           {
            "marker": {
             "colorbar": {
              "outlinewidth": 0,
              "ticks": ""
             }
            },
            "type": "scatterpolar"
           }
          ],
          "scatterpolargl": [
           {
            "marker": {
             "colorbar": {
              "outlinewidth": 0,
              "ticks": ""
             }
            },
            "type": "scatterpolargl"
           }
          ],
          "scatterternary": [
           {
            "marker": {
             "colorbar": {
              "outlinewidth": 0,
              "ticks": ""
             }
            },
            "type": "scatterternary"
           }
          ],
          "surface": [
           {
            "colorbar": {
             "outlinewidth": 0,
             "ticks": ""
            },
            "colorscale": [
             [
              0,
              "#0d0887"
             ],
             [
              0.1111111111111111,
              "#46039f"
             ],
             [
              0.2222222222222222,
              "#7201a8"
             ],
             [
              0.3333333333333333,
              "#9c179e"
             ],
             [
              0.4444444444444444,
              "#bd3786"
             ],
             [
              0.5555555555555556,
              "#d8576b"
             ],
             [
              0.6666666666666666,
              "#ed7953"
             ],
             [
              0.7777777777777778,
              "#fb9f3a"
             ],
             [
              0.8888888888888888,
              "#fdca26"
             ],
             [
              1,
              "#f0f921"
             ]
            ],
            "type": "surface"
           }
          ],
          "table": [
           {
            "cells": {
             "fill": {
              "color": "#EBF0F8"
             },
             "line": {
              "color": "white"
             }
            },
            "header": {
             "fill": {
              "color": "#C8D4E3"
             },
             "line": {
              "color": "white"
             }
            },
            "type": "table"
           }
          ]
         },
         "layout": {
          "annotationdefaults": {
           "arrowcolor": "#2a3f5f",
           "arrowhead": 0,
           "arrowwidth": 1
          },
          "autotypenumbers": "strict",
          "coloraxis": {
           "colorbar": {
            "outlinewidth": 0,
            "ticks": ""
           }
          },
          "colorscale": {
           "diverging": [
            [
             0,
             "#8e0152"
            ],
            [
             0.1,
             "#c51b7d"
            ],
            [
             0.2,
             "#de77ae"
            ],
            [
             0.3,
             "#f1b6da"
            ],
            [
             0.4,
             "#fde0ef"
            ],
            [
             0.5,
             "#f7f7f7"
            ],
            [
             0.6,
             "#e6f5d0"
            ],
            [
             0.7,
             "#b8e186"
            ],
            [
             0.8,
             "#7fbc41"
            ],
            [
             0.9,
             "#4d9221"
            ],
            [
             1,
             "#276419"
            ]
           ],
           "sequential": [
            [
             0,
             "#0d0887"
            ],
            [
             0.1111111111111111,
             "#46039f"
            ],
            [
             0.2222222222222222,
             "#7201a8"
            ],
            [
             0.3333333333333333,
             "#9c179e"
            ],
            [
             0.4444444444444444,
             "#bd3786"
            ],
            [
             0.5555555555555556,
             "#d8576b"
            ],
            [
             0.6666666666666666,
             "#ed7953"
            ],
            [
             0.7777777777777778,
             "#fb9f3a"
            ],
            [
             0.8888888888888888,
             "#fdca26"
            ],
            [
             1,
             "#f0f921"
            ]
           ],
           "sequentialminus": [
            [
             0,
             "#0d0887"
            ],
            [
             0.1111111111111111,
             "#46039f"
            ],
            [
             0.2222222222222222,
             "#7201a8"
            ],
            [
             0.3333333333333333,
             "#9c179e"
            ],
            [
             0.4444444444444444,
             "#bd3786"
            ],
            [
             0.5555555555555556,
             "#d8576b"
            ],
            [
             0.6666666666666666,
             "#ed7953"
            ],
            [
             0.7777777777777778,
             "#fb9f3a"
            ],
            [
             0.8888888888888888,
             "#fdca26"
            ],
            [
             1,
             "#f0f921"
            ]
           ]
          },
          "colorway": [
           "#636efa",
           "#EF553B",
           "#00cc96",
           "#ab63fa",
           "#FFA15A",
           "#19d3f3",
           "#FF6692",
           "#B6E880",
           "#FF97FF",
           "#FECB52"
          ],
          "font": {
           "color": "#2a3f5f"
          },
          "geo": {
           "bgcolor": "white",
           "lakecolor": "white",
           "landcolor": "#E5ECF6",
           "showlakes": true,
           "showland": true,
           "subunitcolor": "white"
          },
          "hoverlabel": {
           "align": "left"
          },
          "hovermode": "closest",
          "mapbox": {
           "style": "light"
          },
          "paper_bgcolor": "white",
          "plot_bgcolor": "#E5ECF6",
          "polar": {
           "angularaxis": {
            "gridcolor": "white",
            "linecolor": "white",
            "ticks": ""
           },
           "bgcolor": "#E5ECF6",
           "radialaxis": {
            "gridcolor": "white",
            "linecolor": "white",
            "ticks": ""
           }
          },
          "scene": {
           "xaxis": {
            "backgroundcolor": "#E5ECF6",
            "gridcolor": "white",
            "gridwidth": 2,
            "linecolor": "white",
            "showbackground": true,
            "ticks": "",
            "zerolinecolor": "white"
           },
           "yaxis": {
            "backgroundcolor": "#E5ECF6",
            "gridcolor": "white",
            "gridwidth": 2,
            "linecolor": "white",
            "showbackground": true,
            "ticks": "",
            "zerolinecolor": "white"
           },
           "zaxis": {
            "backgroundcolor": "#E5ECF6",
            "gridcolor": "white",
            "gridwidth": 2,
            "linecolor": "white",
            "showbackground": true,
            "ticks": "",
            "zerolinecolor": "white"
           }
          },
          "shapedefaults": {
           "line": {
            "color": "#2a3f5f"
           }
          },
          "ternary": {
           "aaxis": {
            "gridcolor": "white",
            "linecolor": "white",
            "ticks": ""
           },
           "baxis": {
            "gridcolor": "white",
            "linecolor": "white",
            "ticks": ""
           },
           "bgcolor": "#E5ECF6",
           "caxis": {
            "gridcolor": "white",
            "linecolor": "white",
            "ticks": ""
           }
          },
          "title": {
           "x": 0.05
          },
          "xaxis": {
           "automargin": true,
           "gridcolor": "white",
           "linecolor": "white",
           "ticks": "",
           "title": {
            "standoff": 15
           },
           "zerolinecolor": "white",
           "zerolinewidth": 2
          },
          "yaxis": {
           "automargin": true,
           "gridcolor": "white",
           "linecolor": "white",
           "ticks": "",
           "title": {
            "standoff": 15
           },
           "zerolinecolor": "white",
           "zerolinewidth": 2
          }
         }
        },
        "title": {
         "text": "Proportion of labels in the test set"
        }
       }
      }
     },
     "metadata": {},
     "output_type": "display_data"
    }
   ],
   "source": [
    "# Plotting the proportion of labels in the test set\n",
    "fig = px.pie(test_labels_proportion, values='count', names='labels', title='Proportion of labels in the test set')\n",
    "fig.show()"
   ]
  },
  {
   "cell_type": "code",
   "execution_count": 17,
   "metadata": {},
   "outputs": [],
   "source": [
    "# store the labels as numbers in a dictionary\n",
    "labels_dict = {'Extremely Negative': -2, 'Negative': -1, 'Neutral': 0, 'Positive': 1, 'Extremely Positive': 2}"
   ]
  },
  {
   "cell_type": "code",
   "execution_count": 18,
   "metadata": {},
   "outputs": [],
   "source": [
    "# map the labels to the training set and test set\n",
    "train_df['labels'] = train_df['Sentiment'].map(labels_dict)\n",
    "test_df['labels'] = test_df['Sentiment'].map(labels_dict)\n",
    "\n",
    "# drop the Sentiment column\n",
    "train_df = train_df.drop(['Sentiment'], axis=1)\n",
    "test_df = test_df.drop(['Sentiment'], axis=1)"
   ]
  },
  {
   "attachments": {},
   "cell_type": "markdown",
   "metadata": {},
   "source": [
    "# Modelize sentiment analysis"
   ]
  },
  {
   "cell_type": "code",
   "execution_count": 19,
   "metadata": {},
   "outputs": [],
   "source": [
    "# create validation set that contains same stratified proportion of labels as the training set\n",
    "from sklearn.model_selection import train_test_split\n",
    "train_df, val_df = train_test_split(train_df, test_size=0.2, stratify=train_df['labels'], random_state=42)"
   ]
  },
  {
   "cell_type": "code",
   "execution_count": 20,
   "metadata": {},
   "outputs": [
    {
     "data": {
      "text/plain": [
       "{('consum', 2): 638,\n",
       " ('voic', 2): 5,\n",
       " ('compil', 2): 5,\n",
       " ('list', 2): 79,\n",
       " ('creativ', 2): 29,\n",
       " ('idea', 2): 58,\n",
       " ('best', 2): 272,\n",
       " ('practic', 2): 74,\n",
       " ('stay', 2): 425,\n",
       " ('connect', 2): 26,\n",
       " ('pandem', 2): 401,\n",
       " ('includ', 2): 93,\n",
       " ('way', 2): 235,\n",
       " ('commun', 2): 161,\n",
       " ('love', 2): 238,\n",
       " ('one', 2): 290,\n",
       " ('activ', 2): 33,\n",
       " ('engag', 2): 19,\n",
       " ('isol', 2): 49,\n",
       " ('europ', 1): 28,\n",
       " ('amp', 1): 318,\n",
       " ('central', 1): 27,\n",
       " ('asia', 1): 13,\n",
       " ('region', 1): 25,\n",
       " ('growth', 1): 39,\n",
       " ('expect', 1): 109,\n",
       " ('fall', 1): 87,\n",
       " ('recess', 1): 16,\n",
       " ('2020', 1): 183,\n",
       " ('held', 1): 12,\n",
       " ('back', 1): 206,\n",
       " ('pandem', 1): 741,\n",
       " ('rebound', 1): 10,\n",
       " ('2021', 1): 7,\n",
       " ('polici', 1): 40,\n",
       " ('measur', 1): 128,\n",
       " ('introduc', 1): 23,\n",
       " ('global', 1): 141,\n",
       " ('commod', 1): 59,\n",
       " ('price', 1): 1828,\n",
       " ('recov', 1): 20,\n",
       " ('trade', 1): 69,\n",
       " ('strengthen', 1): 7,\n",
       " ('see', -1): 310,\n",
       " ('empti', -1): 245,\n",
       " ('shelv', -1): 326,\n",
       " ('groceri', -1): 1176,\n",
       " ('store', -1): 1453,\n",
       " ('morn', -1): 84,\n",
       " ('realli', -1): 123,\n",
       " ('stir', -1): 3,\n",
       " ('covid', -1): 4232,\n",
       " ('2019', -1): 342,\n",
       " ('anxieti', -1): 56,\n",
       " ('usual', -1): 42,\n",
       " ('weekli', -1): 21,\n",
       " ('shop', -1): 867,\n",
       " ('abl', -1): 75,\n",
       " ('get', -1): 739,\n",
       " ('item', -1): 199,\n",
       " ('list', -1): 86,\n",
       " ('coronaviru', 1): 3609,\n",
       " ('soap', 1): 77,\n",
       " ('maker', 1): 12,\n",
       " ('reduc', 1): 125,\n",
       " ('increas', 1): 400,\n",
       " ('product', 1): 381,\n",
       " ('fmcg', 1): 10,\n",
       " ('player', 1): 9,\n",
       " ('like', 1): 783,\n",
       " ('hul', 1): 7,\n",
       " ('godrej', 1): 7,\n",
       " ('consum', 1): 1169,\n",
       " ('patanjali', 1): 4,\n",
       " ('said', 1): 176,\n",
       " ('help', 1): 720,\n",
       " ('fight', 1): 150,\n",
       " ('covid', 1): 5041,\n",
       " ('19', 1): 3890,\n",
       " ('outbreak', 1): 259,\n",
       " ('hygien', 1): 39,\n",
       " ('ramp', 1): 14,\n",
       " ('item', 1): 237,\n",
       " ('mani', 2): 200,\n",
       " ('us', 2): 444,\n",
       " ('expect', 2): 42,\n",
       " ('spend', 2): 40,\n",
       " ('time', 2): 526,\n",
       " ('home', 2): 412,\n",
       " ('mean', 2): 69,\n",
       " ('may', 2): 107,\n",
       " ('answer', 2): 37,\n",
       " ('phone', 2): 29,\n",
       " ('person', 2): 100,\n",
       " ('call', 2): 148,\n",
       " ('offer', 2): 153,\n",
       " ('someth', 2): 53,\n",
       " ('good', 2): 394,\n",
       " ('true', 2): 46,\n",
       " ('treatment', 2): 17,\n",
       " ('even', 2): 151,\n",
       " ('cure', 2): 24,\n",
       " ('coronaviru', 2): 2021,\n",
       " ('expert', 2): 35,\n",
       " ('say', 2): 178,\n",
       " ('hang', 2): 6,\n",
       " ('paul', 2): 3,\n",
       " ('reid', 2): 3,\n",
       " ('sound', 2): 15,\n",
       " ('talk', 2): 46,\n",
       " ('like', 2): 649,\n",
       " ('fail', 2): 2,\n",
       " ('supermarket', 2): 953,\n",
       " ('manag', 2): 67,\n",
       " ('ex', 2): 2,\n",
       " ('fg', 2): 2,\n",
       " ('td', 2): 2,\n",
       " ('georg', 2): 1,\n",
       " ('lee', 2): 1,\n",
       " ('spin', 2): 6,\n",
       " ('crazi', 2): 17,\n",
       " ('inspir', 2): 28,\n",
       " ('confid', 2): 49,\n",
       " ('els', -1): 68,\n",
       " ('calm', -1): 30,\n",
       " ('crisi', -1): 368,\n",
       " ('got', -1): 143,\n",
       " ('home', -1): 425,\n",
       " ('supermarket', -1): 1569,\n",
       " ('panic', -1): 678,\n",
       " ('buy', -1): 732,\n",
       " ('real', -1): 71,\n",
       " ('middl', -1): 27,\n",
       " ('afternoon', -1): 11,\n",
       " ('bet', -1): 15,\n",
       " ('queue', -1): 71,\n",
       " ('longer', -1): 49,\n",
       " ('work', -1): 541,\n",
       " ('hour', -1): 151,\n",
       " ('19', -1): 3232,\n",
       " ('cool', 2): 15,\n",
       " ('number', 2): 63,\n",
       " ('yelp', 2): 2,\n",
       " ('littl', 2): 59,\n",
       " ('bit', 2): 47,\n",
       " ('scienc', 2): 7,\n",
       " ('app', 2): 39,\n",
       " ('usag', 2): 9,\n",
       " ('...', 2): 428,\n",
       " ('goe', 2): 27,\n",
       " ('covid', 2): 2788,\n",
       " ('19', 2): 2205,\n",
       " ('economi', 2): 86,\n",
       " ('impact', 2): 121,\n",
       " ('report', 2): 96,\n",
       " ('->', 2): 4,\n",
       " ('pizzeria', 2): 2,\n",
       " ('ye', 2): 71,\n",
       " ('fastfood', 2): 2,\n",
       " ('ok', 2): 32,\n",
       " ('groceri', 2): 945,\n",
       " ('came', 1): 38,\n",
       " ('groceri', 1): 1673,\n",
       " ('store', 1): 1941,\n",
       " ('pastor', 1): 2,\n",
       " ('say', 1): 324,\n",
       " ('church', 1): 12,\n",
       " ('becas', 1): 1,\n",
       " ('peopl', 1): 1139,\n",
       " ('necess', 1): 26,\n",
       " ('go', 1): 925,\n",
       " ('pray', 1): 25,\n",
       " ('mani', 1): 327,\n",
       " ('religi', 1): 3,\n",
       " ('group', 1): 79,\n",
       " ('infect', 1): 65,\n",
       " ('realli', 1): 142,\n",
       " ('want', 1): 267,\n",
       " ('home', 1): 577,\n",
       " ('quarantin', 1): 198,\n",
       " ('stayhom', 1): 92,\n",
       " ('wonder', -1): 54,\n",
       " ('hunger', -1): 29,\n",
       " ('game', -1): 29,\n",
       " ('legal', -1): 9,\n",
       " ('car', -1): 71,\n",
       " ('park', -1): 40,\n",
       " ('soon', -1): 57,\n",
       " ('tesco', -1): 37,\n",
       " ('sainsburi', -1): 21,\n",
       " ('panicbuyinguk', -1): 31,\n",
       " ('coronaviru', -1): 3322,\n",
       " ('shopnorm', -1): 2,\n",
       " ('hungergam', -1): 1,\n",
       " ('aldi', -1): 10,\n",
       " ('lidl', -1): 7,\n",
       " ('morrison', -1): 15,\n",
       " ('waitros', -1): 9,\n",
       " ('employe', -1): 171,\n",
       " ('restock', -1): 28,\n",
       " ('good', -1): 195,\n",
       " ('petal', -1): 1,\n",
       " ('jaya', -1): 1,\n",
       " ('march', -1): 140,\n",
       " ('17', -1): 17,\n",
       " ('2020', -1): 143,\n",
       " ('measur', -1): 79,\n",
       " ('announc', -1): 77,\n",
       " ('malaysian', -1): 3,\n",
       " ('govern', -1): 221,\n",
       " ('combat', -1): 36,\n",
       " ('novel', -1): 18,\n",
       " ('photo', -1): 32,\n",
       " ('syaiful', -1): 1,\n",
       " ('redzuan', -1): 1,\n",
       " ('exactli', 0): 8,\n",
       " ('said', 0): 67,\n",
       " ('bc', 0): 8,\n",
       " ('work', 0): 286,\n",
       " ('groceri', 0): 1011,\n",
       " ('store', 0): 1269,\n",
       " (\"i'm\", 0): 69,\n",
       " ('basic', 0): 47,\n",
       " ('put', 0): 72,\n",
       " ('full', 0): 87,\n",
       " ('time', 0): 312,\n",
       " ('hour', 0): 120,\n",
       " ('everyon', 0): 81,\n",
       " ('run', 0): 86,\n",
       " ('around', 0): 99,\n",
       " ('head', 0): 49,\n",
       " ('chop', 0): 4,\n",
       " ('covid', 0): 3347,\n",
       " ('19', 0): 2505,\n",
       " ('consum', -2): 491,\n",
       " ('sentiment', -2): 22,\n",
       " ('index', -2): 8,\n",
       " ('show', -2): 71,\n",
       " ('record', -2): 27,\n",
       " ('1', -2): 116,\n",
       " ('month', -2): 80,\n",
       " ('drop', -2): 122,\n",
       " ('remain', -2): 27,\n",
       " ('2008-2009', -2): 1,\n",
       " ('financi', -2): 61,\n",
       " ('crisi', -2): 654,\n",
       " ('low', -2): 165,\n",
       " ('surpris', -2): 10,\n",
       " ('3', -2): 87,\n",
       " ('week', -2): 213,\n",
       " ('job', -2): 116,\n",
       " ('loss', -2): 39,\n",
       " ('17', -2): 16,\n",
       " ('million', -2): 63,\n",
       " ('fiscal', -2): 5,\n",
       " ('stimulu', -2): 15,\n",
       " ('public', -2): 81,\n",
       " ('fed', -2): 17,\n",
       " ('action', -2): 42,\n",
       " ('support', -2): 22,\n",
       " ('confid', -2): 8,\n",
       " ('midst', -2): 5,\n",
       " ('covid', -2): 2328,\n",
       " ('19', -2): 1793,\n",
       " ('contain', -2): 17,\n",
       " ('angst', -2): 1,\n",
       " ('7', -2): 40,\n",
       " ('way', -2): 109,\n",
       " ('hacker', -2): 12,\n",
       " ('exploit', -2): 45,\n",
       " ('panic', -2): 920,\n",
       " ('espionag', -2): 5,\n",
       " ('commerci', -2): 12,\n",
       " ('gain', -2): 14,\n",
       " ('malici', -2): 9,\n",
       " ('app', -2): 9,\n",
       " ('email', -2): 52,\n",
       " ('sm', -2): 9,\n",
       " ('phish', -2): 28,\n",
       " ('vulner', -2): 101,\n",
       " ('softwar', -2): 11,\n",
       " ('face', -2): 138,\n",
       " ('mask', -2): 169,\n",
       " ('hand', -2): 93,\n",
       " ('scam', -2): 275,\n",
       " ('discount', -2): 14,\n",
       " ('via', -2): 62,\n",
       " (\"india'\", 1): 4,\n",
       " ('lng', 1): 9,\n",
       " ('buyer', 1): 22,\n",
       " ('re-examin', 1): 1,\n",
       " ('spot', 1): 39,\n",
       " ('buy', 1): 529,\n",
       " ('plan', 1): 123,\n",
       " ('collaps', 1): 13,\n",
       " ('oil', 1): 272,\n",
       " ('may', 1): 176,\n",
       " ('make', 1): 501,\n",
       " ('fuel', 1): 44,\n",
       " ('attract', 1): 5,\n",
       " ('potenti', 1): 50,\n",
       " ('shift', 1): 103,\n",
       " ('mean', 1): 110,\n",
       " ('seller', 1): 34,\n",
       " ('longer', 1): 37,\n",
       " ('count', 1): 17,\n",
       " ('india', 1): 54,\n",
       " ('absorb', 1): 3,\n",
       " (\"world'\", 1): 4,\n",
       " ('glut', 1): 7,\n",
       " ('cargo', 1): 4,\n",
       " ('mean', -1): 103,\n",
       " ('frontlin', -1): 37,\n",
       " ('save', -1): 45,\n",
       " ('live', -1): 189,\n",
       " ('shift', -1): 87,\n",
       " ('keep', -1): 287,\n",
       " ('food', -1): 1645,\n",
       " ('go', -1): 844,\n",
       " ('without', -1): 84,\n",
       " ('unpreced', -1): 35,\n",
       " ('time', -1): 623,\n",
       " ('150', -1): 6,\n",
       " ('colleagu', -1): 14,\n",
       " ('call', -1): 157,\n",
       " ('busi', -1): 314,\n",
       " ('sec', -1): 2,\n",
       " ('retail', -1): 328,\n",
       " ('whatev', -1): 17,\n",
       " ('take', -1): 393,\n",
       " ('ensur', -1): 27,\n",
       " ('one', -1): 444,\n",
       " ('left', -1): 87,\n",
       " ('behind', -1): 36,\n",
       " ('great', 2): 308,\n",
       " ('provid', 2): 149,\n",
       " ('protect', 2): 260,\n",
       " ('peopl', 2): 669,\n",
       " ('stock', 2): 348,\n",
       " ('sell', 2): 74,\n",
       " ('food', 2): 836,\n",
       " ('philippin', -1): 1,\n",
       " ('commun', -1): 101,\n",
       " ('worker', -1): 487,\n",
       " ('popular', -1): 6,\n",
       " ('grill', -1): 2,\n",
       " ('restur', -1): 3,\n",
       " ('wife', -1): 25,\n",
       " ('reportedli', -1): 4,\n",
       " ('victim', -1): 15,\n",
       " ('woodsid', -1): 2,\n",
       " ('queen', -1): 5,\n",
       " ('newyork', -1): 5,\n",
       " ('confin', -1): 4,\n",
       " ('area', -1): 81,\n",
       " ('hospit', -1): 99,\n",
       " ('unclear', -1): 2,\n",
       " ('near', -1): 43,\n",
       " ('69th', -1): 1,\n",
       " ('street', -1): 39,\n",
       " ('oper', -1): 71,\n",
       " ('mum', -1): 14,\n",
       " ('local', -1): 249,\n",
       " ('kitchen', -1): 11,\n",
       " ('tonight', -1): 27,\n",
       " ('almost', -1): 71,\n",
       " ('noth', -1): 78,\n",
       " ('give', -1): 107,\n",
       " ('plan', -1): 98,\n",
       " ('handout', -1): 2,\n",
       " ('due', -1): 429,\n",
       " ('even', -1): 231,\n",
       " ('run', -1): 150,\n",
       " ('low', -1): 243,\n",
       " (\"we'v\", -1): 12,\n",
       " ('f', -1): 24,\n",
       " ('go', -2): 553,\n",
       " ('supermarket', -2): 853,\n",
       " ('question', -2): 32,\n",
       " ('isol', -2): 91,\n",
       " ('affect', -2): 54,\n",
       " ('itâ', -2): 116,\n",
       " ('\\x92', -2): 968,\n",
       " ('race', -2): 4,\n",
       " ('time', -2): 326,\n",
       " ('tri', -2): 147,\n",
       " ('arrest', -2): 42,\n",
       " ('viru', -2): 186,\n",
       " ('turn', -2): 31,\n",
       " ('human', -2): 51,\n",
       " ('anti-soci', -2): 1,\n",
       " ('self-absorb', -2): 1,\n",
       " ('toilet-pap', -2): 2,\n",
       " ('hoard', -2): 117,\n",
       " ('zombi', -2): 6,\n",
       " ('hand', -1): 227,\n",
       " ('sanit', -1): 284,\n",
       " ('use', -1): 305,\n",
       " ('soap', -1): 54,\n",
       " ('make', -1): 356,\n",
       " ('excus', -1): 15,\n",
       " (\"let'\", -1): 25,\n",
       " ('fight', -1): 188,\n",
       " ('coronaviruslockdown', -1): 22,\n",
       " ('staysafeug', -1): 2,\n",
       " ('stayhom', -1): 61,\n",
       " ('stayathomesavel', -1): 8,\n",
       " ('stayathom', -1): 60,\n",
       " ('scout', -1): 2,\n",
       " ('19out', -1): 5,\n",
       " ('onlin', 0): 545,\n",
       " ('shop', 0): 766,\n",
       " ('look', 0): 141,\n",
       " ('shoe', 0): 5,\n",
       " ('cloth', 0): 29,\n",
       " ('suit', 0): 13,\n",
       " ('closet', 0): 1,\n",
       " ('__19', 0): 12,\n",
       " ('socialdistanac', 0): 34,\n",
       " ('stuck', -2): 12,\n",
       " ('hous', -2): 70,\n",
       " ('teenag', -2): 9,\n",
       " ('autism', -2): 3,\n",
       " ('child', -2): 12,\n",
       " ('eat', -2): 49,\n",
       " ('beig', -2): 1,\n",
       " ('dri', -2): 12,\n",
       " ('food', -2): 1253,\n",
       " ('frozen', -2): 10,\n",
       " ('stock', -2): 301,\n",
       " ('everi', -2): 91,\n",
       " ('god', -2): 11,\n",
       " ('damn', -2): 25,\n",
       " ('shop', -2): 461,\n",
       " ('within', -2): 16,\n",
       " ('30', -2): 37,\n",
       " ('mile', -2): 12,\n",
       " ('home', -2): 224,\n",
       " ('dont', -2): 15,\n",
       " ('drive', -2): 54,\n",
       " ('pile', -2): 27,\n",
       " ('im', -2): 15,\n",
       " ('fuck', -2): 163,\n",
       " ('friend', 1): 91,\n",
       " ('visit', 1): 108,\n",
       " ('gafoor', 1): 1,\n",
       " ('leytonston', 1): 1,\n",
       " ('advis', 1): 20,\n",
       " ('imcres', 1): 1,\n",
       " ('head', 1): 56,\n",
       " ('offic', 1): 79,\n",
       " ('call', 1): 199,\n",
       " ('refer', 1): 9,\n",
       " ('articl', 1): 87,\n",
       " ('advisor', 1): 6,\n",
       " ('becom', 1): 70,\n",
       " ('abrupt', 1): 2,\n",
       " ('end', 1): 104,\n",
       " ('though', -1): 40,\n",
       " ('produc', -1): 113,\n",
       " ('opec', -1): 40,\n",
       " ('gone', -1): 50,\n",
       " ('ahead', -1): 24,\n",
       " ('reduct', -1): 15,\n",
       " ('output', -1): 32,\n",
       " ('question', -1): 63,\n",
       " ('demand', -1): 707,\n",
       " ('suppli', -1): 507,\n",
       " ('view', -1): 17,\n",
       " ('_19', -1): 578,\n",
       " ('impact', -1): 209,\n",
       " ('oil', -1): 494,\n",
       " ('price', -1): 2158,\n",
       " ('slip', -1): 10,\n",
       " ('1', -1): 209,\n",
       " ('may', -1): 186,\n",
       " ('side', -1): 35,\n",
       " ('..', -1): 150,\n",
       " ('1/1', -1): 1,\n",
       " ('subsidiari', 1): 3,\n",
       " ('life', 1): 126,\n",
       " ('scienc', 1): 13,\n",
       " ('tool', 1): 16,\n",
       " ('firm', 1): 36,\n",
       " ('danah', 1): 1,\n",
       " ('receiv', 1): 70,\n",
       " ('emerg', 1): 111,\n",
       " ('approv', 1): 40,\n",
       " ('food', 1): 1489,\n",
       " ('drug', 1): 81,\n",
       " ('administr', 1): 22,\n",
       " ('saturday', 1): 14,\n",
       " ('market', 1): 395,\n",
       " ('first', 1): 209,\n",
       " ('speedi', 1): 1,\n",
       " ('test', 1): 272,\n",
       " ('global', 0): 76,\n",
       " ('panic', 0): 49,\n",
       " ('watch', 0): 62,\n",
       " ('news', 0): 124,\n",
       " ('japan', 0): 6,\n",
       " ('situat', 0): 54,\n",
       " ('empti', 0): 15,\n",
       " ('shelv', 0): 84,\n",
       " ('offici', 0): 28,\n",
       " ('tri', 0): 97,\n",
       " ('assur', 0): 2,\n",
       " ('peopl', 0): 470,\n",
       " ('shortag', 0): 18,\n",
       " ('food', 0): 545,\n",
       " ('good', 0): 91,\n",
       " ('coronaviru', 0): 2814,\n",
       " ('2019', 0): 251,\n",
       " ('donâ', 1): 169,\n",
       " ('\\x92', 1): 1535,\n",
       " ('work', 1): 692,\n",
       " ('anymor', 1): 11,\n",
       " ('2019', 1): 389,\n",
       " ('world', 0): 108,\n",
       " ('consum', 0): 903,\n",
       " ('respond', 0): 45,\n",
       " ('social', 0): 158,\n",
       " ('distanc', 0): 150,\n",
       " ('remot', 0): 15,\n",
       " ('stay', 0): 129,\n",
       " ('home', 0): 277,\n",
       " ('follow', 0): 74,\n",
       " ('u', 0): 95,\n",
       " ('survey', 0): 33,\n",
       " ('pose', 0): 6,\n",
       " ('seri', 0): 24,\n",
       " ('question', 0): 53,\n",
       " ('500', 0): 14,\n",
       " ('china', 0): 82,\n",
       " ('iâ', 0): 102,\n",
       " ('\\x92', 0): 767,\n",
       " ('much', 0): 99,\n",
       " ('concern', 0): 64,\n",
       " ('get', 0): 396,\n",
       " ('_19', 0): 479,\n",
       " ('go', 0): 496,\n",
       " ('manag', 0): 47,\n",
       " ('itâ', 0): 63,\n",
       " ('pretti', 0): 4,\n",
       " ('inevit', 0): 2,\n",
       " ('affect', 0): 52,\n",
       " ('badli', 0): 1,\n",
       " ('enough', 0): 50,\n",
       " ('hospit', 0): 60,\n",
       " ('thereâ', 0): 13,\n",
       " ('ventil', 0): 16,\n",
       " ('avail', 0): 77,\n",
       " ('...', 0): 430,\n",
       " ('1/2', 0): 4,\n",
       " ('get', 1): 884,\n",
       " ('boycottvodafon', 1): 2,\n",
       " ('trend', 1): 81,\n",
       " ('forc', 1): 71,\n",
       " ('retail', 1): 442,\n",
       " ('staff', 1): 271,\n",
       " ('deal', 1): 93,\n",
       " ('china', 1): 95,\n",
       " ('rt', 1): 32,\n",
       " ('coronavirusuk', 1): 34,\n",
       " ('vodafon', 1): 5,\n",
       " ('boycottchina', 1): 1,\n",
       " ('saturday', -1): 16,\n",
       " ('guess', -1): 36,\n",
       " ('hoard', -1): 171,\n",
       " ('panic-buy', -1): 36,\n",
       " ('move', -1): 66,\n",
       " ('dri', -1): 16,\n",
       " ('pasta', -1): 31,\n",
       " ('iâ', -1): 211,\n",
       " ('\\x92', -1): 1486,\n",
       " ('sure', -1): 77,\n",
       " ('someoneâ', -1): 2,\n",
       " ('track', -1): 23,\n",
       " ('grocery-shop', -1): 1,\n",
       " ('patternsâ', -1): 1,\n",
       " ('upstat', -1): 2,\n",
       " ('florida', -1): 16,\n",
       " ('sarasota-manate', -1): 1,\n",
       " ('lag', -1): 5,\n",
       " ('state', -1): 151,\n",
       " ('nation', -1): 109,\n",
       " ('nobodi', 1): 20,\n",
       " ('desert', 1): 3,\n",
       " ('walk', 1): 107,\n",
       " ('around', 1): 146,\n",
       " ('without', 1): 122,\n",
       " ('arrest', 1): 5,\n",
       " ('draconian', 1): 1,\n",
       " ('...', 1): 621,\n",
       " ('hey', 1): 50,\n",
       " ('carri', 1): 39,\n",
       " ('queu', 1): 23,\n",
       " ('supermarket', 1): 1689,\n",
       " ('itâ', 1): 172,\n",
       " ('nice', 1): 49,\n",
       " ('congest', 1): 2,\n",
       " ('let', 1): 130,\n",
       " ('herd', 1): 4,\n",
       " ('immun', 1): 33,\n",
       " ('kick', 1): 17,\n",
       " ('cornoabollock', 1): 1,\n",
       " ('industri', 1): 161,\n",
       " ('practic', 1): 84,\n",
       " ('kearneymea', 1): 1,\n",
       " ('recent', 1): 64,\n",
       " ('commiss', 1): 19,\n",
       " ('survey', 1): 48,\n",
       " ('track', 1): 38,\n",
       " ('shop', 1): 1177,\n",
       " ('habit', 1): 49,\n",
       " ('ksa', 1): 2,\n",
       " ('uae', 1): 9,\n",
       " ('coronaviruspandem', 1): 83,\n",
       " ('interest', 1): 106,\n",
       " ('find', 1): 215,\n",
       " ('came', 2): 30,\n",
       " ('back', 2): 122,\n",
       " ('local', 2): 278,\n",
       " ('store', 2): 1201,\n",
       " ('saw', 2): 38,\n",
       " ('clerk', 2): 42,\n",
       " ('stand', 2): 50,\n",
       " ('entranc', 2): 10,\n",
       " ('wipe', 2): 59,\n",
       " ('cart', 2): 20,\n",
       " ('hand', 2): 892,\n",
       " ('sanit', 2): 817,\n",
       " ('thank', 2): 663,\n",
       " ('guy', 2): 60,\n",
       " ('valuabl', 2): 17,\n",
       " ('part', 2): 85,\n",
       " ('societi', 2): 31,\n",
       " ('grocerywork', 2): 9,\n",
       " ('hy-ve', 2): 1,\n",
       " ('inc', 2): 5,\n",
       " ('announc', 2): 67,\n",
       " ('due', 2): 203,\n",
       " ('evolv', 2): 5,\n",
       " ('concern', 2): 61,\n",
       " ('regard', 2): 34,\n",
       " ('adapt', 2): 26,\n",
       " ('serv', 2): 33,\n",
       " ('custom', 2): 230,\n",
       " ('ensur', 2): 125,\n",
       " ('receiv', 2): 38,\n",
       " ('product', 2): 205,\n",
       " ('need', 2): 559,\n",
       " ('keep', 2): 430,\n",
       " ('employe', 2): 222,\n",
       " ('healthi', 2): 100,\n",
       " ('final', 1): 53,\n",
       " ('score', 1): 9,\n",
       " ('toiletpap', 1): 328,\n",
       " ('thank', 1): 387,\n",
       " ('caloocan', 0): 1,\n",
       " ('transport', 0): 21,\n",
       " ('servic', 0): 119,\n",
       " ('medic', 0): 69,\n",
       " ('health', 0): 98,\n",
       " ('worker', 0): 194,\n",
       " ('law', 0): 42,\n",
       " ('enforc', 0): 15,\n",
       " (\"gov't\", 0): 2,\n",
       " ('employe', 0): 108,\n",
       " ('supermarket', 0): 1138,\n",
       " ('drugstor', 0): 5,\n",
       " ('restaur', 0): 75,\n",
       " ('bank', 0): 75,\n",
       " ('bpo', 0): 2,\n",
       " ('checkâ', 0): 3,\n",
       " ('friend', 2): 200,\n",
       " ('famili', 2): 186,\n",
       " ('safe', 2): 466,\n",
       " ('wash', 2): 139,\n",
       " ('buy', 2): 257,\n",
       " ('psa', 2): 13,\n",
       " ('washyourhand', 2): 19,\n",
       " ('facemask', 2): 16,\n",
       " ('toiletpap', 2): 156,\n",
       " ('wuhan', 2): 8,\n",
       " ('viru', 2): 137,\n",
       " ('wuhancoronaviru', 2): 2,\n",
       " ('clean', 2): 129,\n",
       " ('epidem', 2): 11,\n",
       " ('outbreak', 2): 125,\n",
       " ('cdc', 2): 5,\n",
       " ('work', -2): 321,\n",
       " ('groceri', -2): 553,\n",
       " ('store', -2): 671,\n",
       " ('right', -2): 110,\n",
       " ('want', -2): 101,\n",
       " ('thank', -2): 27,\n",
       " ('ceo', -2): 15,\n",
       " ('said', -2): 92,\n",
       " ('employe', -2): 95,\n",
       " ('deserv', -2): 16,\n",
       " ('talk', -2): 47,\n",
       " ('back', -2): 89,\n",
       " ('slap', -2): 2,\n",
       " ('custom', -2): 98,\n",
       " ('act', -2): 45,\n",
       " ('like', -2): 234,\n",
       " ('rude', -2): 9,\n",
       " ('obnoxi', -2): 2,\n",
       " ('ungrat', -2): 1,\n",
       " ('piec', -2): 18,\n",
       " ('shit', -2): 92,\n",
       " ('_19', -2): 345,\n",
       " ('serious', -1): 65,\n",
       " ('fresh', -1): 32,\n",
       " ('also', -1): 208,\n",
       " ('stop', -1): 341,\n",
       " ('hard', -1): 94,\n",
       " ('everyon', -1): 187,\n",
       " ('coronavirusau', -1): 14,\n",
       " ('19australia', -1): 9,\n",
       " ('pleas', 1): 442,\n",
       " ('everyday', 1): 30,\n",
       " ('noth', 1): 82,\n",
       " ('selfish', 1): 16,\n",
       " ('someth', 1): 82,\n",
       " ('19uk', 1): 77,\n",
       " ('tesco', 1): 39,\n",
       " ('small', -2): 39,\n",
       " ('compani', -2): 103,\n",
       " ('rais', -2): 60,\n",
       " ('price', -2): 1296,\n",
       " ('paracetamol', -2): 12,\n",
       " ('â', -2): 391,\n",
       " ('£', -2): 27,\n",
       " ('9.99', -2): 2,\n",
       " ('19.99', -2): 2,\n",
       " ('babi', -2): 28,\n",
       " ('milk', -2): 70,\n",
       " ('18.99', -2): 1,\n",
       " ('disgust', -2): 49,\n",
       " ('govern', -2): 131,\n",
       " ('close', -2): 120,\n",
       " ('take', -2): 199,\n",
       " ('advantag', -2): 41,\n",
       " ('greedi', -2): 53,\n",
       " ('absolut', -2): 42,\n",
       " ('shock', -2): 58,\n",
       " ('coranoviru', -2): 1,\n",
       " ('2019', -2): 191,\n",
       " ('icymi', 1): 19,\n",
       " ('canadian', 1): 38,\n",
       " ('confid', 1): 77,\n",
       " ('plung', 1): 26,\n",
       " ('lowest', 1): 10,\n",
       " ('level', 1): 66,\n",
       " ('ever', 1): 78,\n",
       " ('fastest', -1): 2,\n",
       " ('grow', -1): 54,\n",
       " ('declin', -1): 56,\n",
       " ('onlin', -1): 540,\n",
       " ('product', -1): 324,\n",
       " ('luggag', -1): 1,\n",
       " ('suitcas', -1): 1,\n",
       " ('camera', -1): 3,\n",
       " ('men', -1): 21,\n",
       " ('swimwear', -1): 1,\n",
       " ('seen', -1): 102,\n",
       " ('dip', -1): 13,\n",
       " ('sale', -1): 114,\n",
       " ('iâ', 1): 221,\n",
       " ('alway', 1): 71,\n",
       " ('plymouth', 1): 1,\n",
       " ('panicbuy', 1): 63,\n",
       " ('stockpil', 1): 60,\n",
       " ('insight', 2): 44,\n",
       " ('made', 2): 78,\n",
       " ('possibl', 2): 44,\n",
       " ('although', 2): 6,\n",
       " ('entir', 2): 20,\n",
       " ('unrel', 2): 1,\n",
       " ('day', 2): 269,\n",
       " ('unsalt', 2): 1,\n",
       " ('butter', 2): 7,\n",
       " (\"i'v\", 2): 46,\n",
       " ('use', 2): 366,\n",
       " ('year', 2): 83,\n",
       " ('plenti', 2): 21,\n",
       " ('salt', 2): 6,\n",
       " ('kind', 2): 104,\n",
       " ('think', 2): 173,\n",
       " ('eh', 2): 1,\n",
       " ('salti', 2): 2,\n",
       " ('could', 2): 133,\n",
       " ('bought', 2): 30,\n",
       " ('dear', 2): 53,\n",
       " ('god', 2): 58,\n",
       " ('case', 1): 160,\n",
       " ('take', 1): 430,\n",
       " ('state', 1): 202,\n",
       " ('lockdown', 1): 274,\n",
       " ('come', 1): 263,\n",
       " ('late', 1): 31,\n",
       " ('today', 1): 305,\n",
       " ('us', 1): 525,\n",
       " ('53,000', 1): 1,\n",
       " ('almost', 1): 47,\n",
       " ('10,000', 1): 4,\n",
       " ('new', 1): 386,\n",
       " ('three', 1): 49,\n",
       " ('day', 1): 452,\n",
       " ('perhap', 1): 28,\n",
       " ('100,000', 1): 22,\n",
       " ('one', 1): 476,\n",
       " ('week', 1): 390,\n",
       " ('300,000', 1): 2,\n",
       " ('50,000', 1): 5,\n",
       " ('per', 1): 112,\n",
       " ('impact', 1): 291,\n",
       " ('hi', -1): 23,\n",
       " ('cliff', -1): 2,\n",
       " ('apolog', -1): 6,\n",
       " ('delay', -1): 57,\n",
       " ('respons', -1): 135,\n",
       " ('start', -1): 163,\n",
       " ('19th', -1): 8,\n",
       " ('assist', -1): 36,\n",
       " ('situat', -1): 87,\n",
       " ('provid', -1): 112,\n",
       " ('consum', -1): 892,\n",
       " ('small', -1): 79,\n",
       " ('custom', -1): 192,\n",
       " ('turbo', -1): 10,\n",
       " ('hub', -1): 14,\n",
       " ('stick', -1): 14,\n",
       " ('mifi', -1): 4,\n",
       " ('dev', -1): 2,\n",
       " ('chinaâ', -1): 6,\n",
       " ('largest', -1): 30,\n",
       " ('aggreg', -1): 1,\n",
       " ('forecast', -1): 20,\n",
       " ('revenu', -1): 30,\n",
       " ('drop', -1): 221,\n",
       " ('45', -1): 12,\n",
       " ('50', -1): 56,\n",
       " ('yoy', -1): 3,\n",
       " ('first', -1): 142,\n",
       " ('quarter', -1): 8,\n",
       " ('trip.com', -1): 1,\n",
       " ('airbnb', -1): 2,\n",
       " ('travel', -1): 82,\n",
       " ('news', 1): 174,\n",
       " ('mortgag', 1): 33,\n",
       " ('compani', 1): 262,\n",
       " ('car', 1): 70,\n",
       " ('financ', 1): 38,\n",
       " ('crediit', 1): 1,\n",
       " ('card', 1): 57,\n",
       " ('companyâ', 1): 5,\n",
       " ('offer', 1): 169,\n",
       " ('lost', 1): 48,\n",
       " ('job', 1): 137,\n",
       " ('due', 1): 352,\n",
       " ('shutdown', 1): 34,\n",
       " ('sat', 0): 4,\n",
       " ('cuppa', 0): 2,\n",
       " ('reflect', 0): 8,\n",
       " ('word', 0): 14,\n",
       " ('phrase', 0): 1,\n",
       " ('week', 0): 206,\n",
       " ('ago', 0): 29,\n",
       " ('werenâ', 0): 3,\n",
       " ('everyday', 0): 15,\n",
       " ('vocabulari', 0): 1,\n",
       " ('socialdistanc', 0): 187,\n",
       " ('socialisol', 0): 1,\n",
       " ('pandem', 0): 417,\n",
       " ('toiletpap', 0): 415,\n",
       " ('stock', 0): 276,\n",
       " ('cov', 0): 8,\n",
       " ('d19', 0): 9,\n",
       " ('corona', 0): 137,\n",
       " ('alic', 0): 1,\n",
       " ('chan', 0): 3,\n",
       " ('bump', 0): 6,\n",
       " ('joel', 0): 1,\n",
       " ('buy', 0): 226,\n",
       " ('say', 0): 170,\n",
       " ('sourc', 0): 19,\n",
       " ('non-med', 0): 2,\n",
       " ('mask', 0): 268,\n",
       " ('join', 0): 22,\n",
       " ('big', 0): 46,\n",
       " ('retail', 0): 331,\n",
       " ('deem', 0): 3,\n",
       " ('essenti', 0): 173,\n",
       " ('last', 0): 100,\n",
       " (\"week'\", 0): 5,\n",
       " ('stori', 0): 36,\n",
       " ('lysol', 0): 19,\n",
       " ('laundri', 0): 16,\n",
       " ('sanit', 0): 204,\n",
       " ('additiveâ', 0): 1,\n",
       " ('41oz', 0): 4,\n",
       " ('bottl', 0): 28,\n",
       " ('know', 1): 317,\n",
       " ('exactli', 1): 14,\n",
       " ('ancestor', 1): 3,\n",
       " ('felt', 1): 24,\n",
       " ('return', 1): 53,\n",
       " ('tribe', 1): 2,\n",
       " ('success', 1): 21,\n",
       " ('hunt', 1): 13,\n",
       " ('egg', 1): 49,\n",
       " ('bleach', 1): 12,\n",
       " ('purel', 1): 12,\n",
       " ('stillnooatmilk', 1): 2,\n",
       " ('god', 1): 45,\n",
       " ('hide', 1): 9,\n",
       " ('told', 1): 62,\n",
       " ('close', 1): 321,\n",
       " ('last', 1): 195,\n",
       " ('quarter', 1): 8,\n",
       " ('year', 1): 167,\n",
       " ('stock', 1): 617,\n",
       " ('water', 1): 98,\n",
       " ('perceiv', 1): 1,\n",
       " ('nation', 1): 104,\n",
       " ('event', 1): 37,\n",
       " ('other', 1): 133,\n",
       " ('far', 1): 63,\n",
       " ('2015', 1): 3,\n",
       " ('word', 1): 33,\n",
       " ('poultri', -1): 10,\n",
       " ('farmer', -1): 71,\n",
       " ('karnataka', -1): 3,\n",
       " ('feel', -1): 99,\n",
       " ('effect', -1): 88,\n",
       " ('wholesal', -1): 16,\n",
       " ('crash', -1): 39,\n",
       " ('bank', 1): 200,\n",
       " ('struggl', 1): 40,\n",
       " ('keep', 1): 435,\n",
       " ('grow', 1): 70,\n",
       " ('demand', 1): 573,\n",
       " ('anim', 1): 30,\n",
       " ('advoc', 1): 12,\n",
       " ('hope', 1): 128,\n",
       " ('pet', 1): 31,\n",
       " ('forgotten', 1): 5,\n",
       " ('grandpar', -2): 7,\n",
       " ('age', -2): 12,\n",
       " ('coronaviru', -2): 1853,\n",
       " ('new', -2): 167,\n",
       " ('twist', -2): 3,\n",
       " ('\\x96', -2): 58,\n",
       " ('sens', -2): 23,\n",
       " ('urgenc', -2): 2,\n",
       " ('hereâ', -2): 10,\n",
       " ('keep', -2): 132,\n",
       " ('mind', -2): 27,\n",
       " ('blog', -2): 17,\n",
       " ('goe', -2): 21,\n",
       " ('full', -2): 74,\n",
       " ('detail', -2): 10,\n",
       " ('damag', -2): 25,\n",
       " ('demand', -2): 308,\n",
       " ('swan', -2): 4,\n",
       " ('black', -2): 19,\n",
       " ('amp', -2): 180,\n",
       " ('opec', -2): 33,\n",
       " ('russia', -2): 60,\n",
       " ('harold', -2): 1,\n",
       " ('hamm', -2): 1,\n",
       " ('u', -2): 87,\n",
       " ('bather', -2): 1,\n",
       " ('w', -2): 50,\n",
       " ('suit', -2): 4,\n",
       " ('tide', -2): 2,\n",
       " ('suddenli', -2): 8,\n",
       " ('unexpectedli', -2): 1,\n",
       " ('went', -2): 86,\n",
       " ('output', -2): 21,\n",
       " ('cut', -2): 96,\n",
       " ('enough', -2): 128,\n",
       " ('counter', -2): 9,\n",
       " ('line', 0): 143,\n",
       " ('waltermart', 0): 1,\n",
       " ('sinc', 0): 78,\n",
       " ('7:30', 0): 2,\n",
       " ('today', 0): 181,\n",
       " ('open', 0): 136,\n",
       " ('9am', 0): 5,\n",
       " ('50', 0): 44,\n",
       " ('soul', 0): 1,\n",
       " ('front', 0): 45,\n",
       " ('alreadi', 0): 39,\n",
       " ('2', 0): 146,\n",
       " ('start', 0): 106,\n",
       " ('fall', 0): 65,\n",
       " ...}"
      ]
     },
     "execution_count": 20,
     "metadata": {},
     "output_type": "execute_result"
    }
   ],
   "source": [
    "# create frequency dictionary\n",
    "freqs = build_freqs(train_df['OriginalTweet'], train_df['labels'])\n",
    "freqs"
   ]
  },
  {
   "attachments": {},
   "cell_type": "markdown",
   "metadata": {},
   "source": [
    "## Model 1: Scikit learn logistic regression"
   ]
  },
  {
   "cell_type": "code",
   "execution_count": 21,
   "metadata": {},
   "outputs": [],
   "source": [
    "# Trying scikit learn logistic regression knowing that we already have the frequency dictionary \n",
    "from sklearn.linear_model import LogisticRegression\n",
    "\n",
    "# vectorizing tweets using the frequency dictionary\n",
    "processed_X_train = [process_tweet(tweet) for tweet in train_df['OriginalTweet']]\n",
    "X_vectors = np.zeros((len(processed_X_train), 6))\n",
    "for i in range(len(processed_X_train)):\n",
    "    for word in processed_X_train[i]:\n",
    "        X_vectors[i, 0] = 1\n",
    "        X_vectors[i, 1] += freqs.get((word, 2), 0)\n",
    "        X_vectors[i, 2] += freqs.get((word, 1), 0)\n",
    "        X_vectors[i, 3] += freqs.get((word, 0), 0)\n",
    "        X_vectors[i, 4] += freqs.get((word, -1), 0)\n",
    "        X_vectors[i, 5] += freqs.get((word, -2), 0)\n",
    "\n",
    "x_train = X_vectors\n",
    "y_train = train_df['labels']"
   ]
  },
  {
   "cell_type": "code",
   "execution_count": 22,
   "metadata": {},
   "outputs": [
    {
     "data": {
      "text/plain": [
       "0.37038386783284744"
      ]
     },
     "execution_count": 22,
     "metadata": {},
     "output_type": "execute_result"
    }
   ],
   "source": [
    "# Training the model\n",
    "clf = LogisticRegression(random_state=42, max_iter=1000)\n",
    "clf.fit(x_train, y_train)\n",
    "\n",
    "# vectorizing validation set\n",
    "processed_X_val = [process_tweet(tweet) for tweet in val_df['OriginalTweet']]\n",
    "X_vectors = np.zeros((len(processed_X_val), 6))\n",
    "for i in range(len(processed_X_val)):\n",
    "    for word in processed_X_val[i]:\n",
    "        X_vectors[i, 0] = 1\n",
    "        X_vectors[i, 1] += freqs.get((word, 2), 0)\n",
    "        X_vectors[i, 2] += freqs.get((word, 1), 0)\n",
    "        X_vectors[i, 3] += freqs.get((word, 0), 0)\n",
    "        X_vectors[i, 4] += freqs.get((word, -1), 0)\n",
    "        X_vectors[i, 5] += freqs.get((word, -2), 0)\n",
    "\n",
    "x_val = X_vectors\n",
    "y_val = val_df['labels']\n",
    "\n",
    "# Predicting on validation set\n",
    "y_pred = clf.predict(x_val)\n",
    "\n",
    "# Computing accuracy\n",
    "from sklearn.metrics import accuracy_score\n",
    "accuracy_score(y_val, y_pred)"
   ]
  },
  {
   "attachments": {},
   "cell_type": "markdown",
   "metadata": {},
   "source": [
    "## Model 2: 2-class classification: positive vs negative"
   ]
  },
  {
   "cell_type": "code",
   "execution_count": 23,
   "metadata": {},
   "outputs": [],
   "source": [
    "# implementing binary classification for positive and negative tweets\n",
    "train_df['labels'] = train_df['labels'].apply(lambda x: 1 if x > 0 else 0)\n",
    "val_df['labels'] = val_df['labels'].apply(lambda x: 1 if x > 0 else 0)\n",
    "test_df['labels'] = test_df['labels'].apply(lambda x: 1 if x > 0 else 0)\n",
    "\n",
    "# create frequency dictionary\n",
    "freqs = build_freqs(train_df['OriginalTweet'], train_df['labels'])\n"
   ]
  },
  {
   "cell_type": "code",
   "execution_count": 24,
   "metadata": {},
   "outputs": [
    {
     "data": {
      "text/plain": [
       "0.6637512147716229"
      ]
     },
     "execution_count": 24,
     "metadata": {},
     "output_type": "execute_result"
    }
   ],
   "source": [
    "# vectorizing tweets using the frequency dictionary\n",
    "processed_X_train = [process_tweet(tweet) for tweet in train_df['OriginalTweet']]\n",
    "X_vectors = np.zeros((len(processed_X_train), 3))\n",
    "for i in range(len(processed_X_train)):\n",
    "    for word in processed_X_train[i]:\n",
    "        X_vectors[i, 0] = 1\n",
    "        X_vectors[i, 1] += freqs.get((word, 1), 0)\n",
    "        X_vectors[i, 2] += freqs.get((word, 0), 0)\n",
    "\n",
    "x_train = X_vectors\n",
    "y_train = train_df['labels']\n",
    "\n",
    "# Training the model\n",
    "clf = LogisticRegression(random_state=42, max_iter=1000)\n",
    "clf.fit(x_train, y_train)\n",
    "\n",
    "# vectorizing validation set\n",
    "processed_X_val = [process_tweet(tweet) for tweet in val_df['OriginalTweet']]\n",
    "X_vectors = np.zeros((len(processed_X_val), 3))\n",
    "for i in range(len(processed_X_val)):\n",
    "    for word in processed_X_val[i]:\n",
    "        X_vectors[i, 0] = 1\n",
    "        X_vectors[i, 1] += freqs.get((word, 1), 0)\n",
    "        X_vectors[i, 2] += freqs.get((word, 0), 0)\n",
    "\n",
    "x_val = X_vectors\n",
    "y_val = val_df['labels']\n",
    "\n",
    "# Predicting on validation set\n",
    "y_pred = clf.predict(x_val)\n",
    "\n",
    "# Computing accuracy\n",
    "accuracy_score(y_val, y_pred)\n",
    "\n"
   ]
  },
  {
   "attachments": {},
   "cell_type": "markdown",
   "metadata": {},
   "source": [
    "## Model 3: 2-class classification gradient descent"
   ]
  },
  {
   "cell_type": "code",
   "execution_count": 25,
   "metadata": {},
   "outputs": [],
   "source": [
    "# implementing gradient descent for logistic regression using (x_train, y_train)\n",
    "def sigmoid(z):\n",
    "    return 1 / (1 + np.exp(-z))\n",
    "\n",
    "def log_loss(y, y_hat):\n",
    "    m = y.shape[0]\n",
    "    cost = -(1 / m) * (np.dot(y.T, np.log(y_hat)) + np.dot((1 - y).T, np.log(1 - y_hat)))\n",
    "    return cost\n",
    "\n",
    "def batch_gradient_descent(x, y, alpha, learning_rate, num_iter):\n",
    "    m = x.shape[0]\n",
    "    y = np.array(y).reshape(-1, 1)\n",
    "    theta = np.zeros((x.shape[1], 1))\n",
    "    for i in range(num_iter):\n",
    "        z = x @ alpha\n",
    "        h = sigmoid(z)\n",
    "        cost = log_loss(y, h)\n",
    "        gradient = (1 / m) * x.T @ np.subtract(h, y)\n",
    "        alpha = alpha - learning_rate * gradient\n",
    "    return alpha\n"
   ]
  },
  {
   "cell_type": "code",
   "execution_count": 26,
   "metadata": {},
   "outputs": [
    {
     "name": "stderr",
     "output_type": "stream",
     "text": [
      "/var/folders/mx/6q664ymj3l72v028lxbny7pr0000gn/T/ipykernel_91470/1978337331.py:3: RuntimeWarning:\n",
      "\n",
      "overflow encountered in exp\n",
      "\n",
      "/var/folders/mx/6q664ymj3l72v028lxbny7pr0000gn/T/ipykernel_91470/1978337331.py:7: RuntimeWarning:\n",
      "\n",
      "divide by zero encountered in log\n",
      "\n"
     ]
    },
    {
     "data": {
      "text/plain": [
       "array([[-4.55604837e-02],\n",
       "       [ 7.19481228e+02],\n",
       "       [-5.34885880e+02]])"
      ]
     },
     "execution_count": 26,
     "metadata": {},
     "output_type": "execute_result"
    }
   ],
   "source": [
    "# Training the model and getting the optimal alpha\n",
    "alpha = np.zeros((x_train.shape[1], 1))\n",
    "learning_rate = 0.01\n",
    "num_iter = 1000\n",
    "optimal_alpha = batch_gradient_descent(x_train, y_train, alpha, learning_rate, num_iter)\n",
    "optimal_alpha"
   ]
  },
  {
   "cell_type": "code",
   "execution_count": 27,
   "metadata": {},
   "outputs": [
    {
     "name": "stderr",
     "output_type": "stream",
     "text": [
      "/var/folders/mx/6q664ymj3l72v028lxbny7pr0000gn/T/ipykernel_91470/1978337331.py:3: RuntimeWarning:\n",
      "\n",
      "overflow encountered in exp\n",
      "\n"
     ]
    },
    {
     "data": {
      "text/plain": [
       "0.5579446064139941"
      ]
     },
     "execution_count": 27,
     "metadata": {},
     "output_type": "execute_result"
    }
   ],
   "source": [
    "# Predicting on validation set\n",
    "pre_results = sigmoid(x_val @ optimal_alpha)\n",
    "y_pred = np.where(pre_results > 0.5, 1, 0)\n",
    "\n",
    "# Computing accuracy\n",
    "accuracy_score(y_val, y_pred)"
   ]
  },
  {
   "attachments": {},
   "cell_type": "markdown",
   "metadata": {},
   "source": [
    "## Model 4: Naïve Bayes 2-class classification"
   ]
  },
  {
   "cell_type": "code",
   "execution_count": 28,
   "metadata": {},
   "outputs": [
    {
     "data": {
      "text/plain": [
       "0.718172983479106"
      ]
     },
     "execution_count": 28,
     "metadata": {},
     "output_type": "execute_result"
    }
   ],
   "source": [
    "# building frequency dictionary using train_df\n",
    "freqs = build_freqs(train_df['OriginalTweet'], train_df['labels'])\n",
    "\n",
    "# computing log prior\n",
    "log_prior = np.log(len(train_df[train_df['labels'] == 1]) / len(train_df[train_df['labels'] == 0]))\n",
    "\n",
    "# computing log likelihood using laplace smoothing\n",
    "def compute_log_likelihood(freqs, word, label):\n",
    "    n = freqs.get((word, label), 0)\n",
    "    d = sum([freqs.get((word, label), 0) for label in [0, 1]])\n",
    "    return np.log((n + 1) / (d + 2))\n",
    "\n",
    "# computing log likelihood for each word in the vocabulary\n",
    "def compute_log_likelihoods(freqs):\n",
    "    log_likelihoods = {}\n",
    "    for word in freqs.keys():\n",
    "        log_likelihoods[word] = compute_log_likelihood(freqs, word[0], word[1])\n",
    "    return log_likelihoods\n",
    "\n",
    "log_likelihoods = compute_log_likelihoods(freqs)\n",
    "\n",
    "# implementing naive bayes classifier\n",
    "def naive_bayes_predict(tweet, log_prior, log_likelihoods):\n",
    "    word_l = process_tweet(tweet)\n",
    "    p = 0\n",
    "    p += log_prior\n",
    "    for word in word_l:\n",
    "        if (word, 1) in log_likelihoods:\n",
    "            p += log_likelihoods[(word, 1)]\n",
    "        if (word, 0) in log_likelihoods:\n",
    "            p -= log_likelihoods[(word, 0)]\n",
    "    return p\n",
    "\n",
    "# predicting on validation set\n",
    "y_pred = []\n",
    "for tweet in val_df['OriginalTweet']:\n",
    "    if naive_bayes_predict(tweet, log_prior, log_likelihoods) > 0:\n",
    "        y_pred.append(1)\n",
    "    else:\n",
    "        y_pred.append(0)\n",
    "\n",
    "# computing accuracy\n",
    "accuracy_score(y_val, y_pred)\n",
    "\n"
   ]
  },
  {
   "attachments": {},
   "cell_type": "markdown",
   "metadata": {},
   "source": [
    "# Training best model on train_df and val_df and computing accuracy on test_df to get generalization benchmark"
   ]
  },
  {
   "cell_type": "code",
   "execution_count": 29,
   "metadata": {},
   "outputs": [
    {
     "data": {
      "text/plain": [
       "(32925, 8232)"
      ]
     },
     "execution_count": 29,
     "metadata": {},
     "output_type": "execute_result"
    }
   ],
   "source": [
    "len(train_df), len(val_df)"
   ]
  },
  {
   "cell_type": "code",
   "execution_count": 30,
   "metadata": {},
   "outputs": [
    {
     "name": "stderr",
     "output_type": "stream",
     "text": [
      "/var/folders/mx/6q664ymj3l72v028lxbny7pr0000gn/T/ipykernel_91470/3928667516.py:2: FutureWarning:\n",
      "\n",
      "The frame.append method is deprecated and will be removed from pandas in a future version. Use pandas.concat instead.\n",
      "\n"
     ]
    },
    {
     "data": {
      "text/plain": [
       "41157"
      ]
     },
     "execution_count": 30,
     "metadata": {},
     "output_type": "execute_result"
    }
   ],
   "source": [
    "# implementing naivee bayes on train_df and val_df\n",
    "train_df = train_df.append(val_df)\n",
    "len(train_df)"
   ]
  },
  {
   "cell_type": "code",
   "execution_count": 31,
   "metadata": {},
   "outputs": [],
   "source": [
    "# building frequency dictionary using train_df\n",
    "freqs = build_freqs(train_df['OriginalTweet'], train_df['labels'])\n",
    "\n",
    "# computing log prior\n",
    "log_prior = np.log(len(train_df[train_df['labels'] == 1]) / len(train_df[train_df['labels'] == 0]))\n",
    "\n",
    "# computing log likelihood using laplace smoothing\n",
    "log_likelihoods = compute_log_likelihoods(freqs)\n",
    "\n",
    "# predicting on test set\n",
    "y_pred = []\n",
    "for tweet in test_df['OriginalTweet']:\n",
    "    if naive_bayes_predict(tweet, log_prior, log_likelihoods) > 0:\n",
    "        y_pred.append(1)\n",
    "    else:\n",
    "        y_pred.append(0)\n"
   ]
  },
  {
   "cell_type": "code",
   "execution_count": 32,
   "metadata": {},
   "outputs": [
    {
     "data": {
      "text/plain": [
       "0.7101105845181674"
      ]
     },
     "execution_count": 32,
     "metadata": {},
     "output_type": "execute_result"
    }
   ],
   "source": [
    "# computing accuracy   \n",
    "accuracy_score(test_df['labels'], y_pred)"
   ]
  },
  {
   "attachments": {},
   "cell_type": "markdown",
   "metadata": {},
   "source": [
    "- This score can be considered as a benchmark of our model's capacity to generalize predictions.\n",
    "- Next steps would be to try vector spaces model or to fine tune scikit learn's logistic regression using grid search in order to reach a better accuracy."
   ]
  }
 ],
 "metadata": {
  "kernelspec": {
   "display_name": "Python 3",
   "language": "python",
   "name": "python3"
  },
  "language_info": {
   "codemirror_mode": {
    "name": "ipython",
    "version": 3
   },
   "file_extension": ".py",
   "mimetype": "text/x-python",
   "name": "python",
   "nbconvert_exporter": "python",
   "pygments_lexer": "ipython3",
   "version": "3.8.1"
  },
  "orig_nbformat": 4,
  "vscode": {
   "interpreter": {
    "hash": "aee8b7b246df8f9039afb4144a1f6fd8d2ca17a180786b69acc140d282b71a49"
   }
  }
 },
 "nbformat": 4,
 "nbformat_minor": 2
}
